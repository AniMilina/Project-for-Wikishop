{
 "cells": [
  {
   "cell_type": "markdown",
   "metadata": {
    "toc": true
   },
   "source": [
    "<h1>Содержание<span class=\"tocSkip\"></span></h1>\n",
    "<div class=\"toc\"><ul class=\"toc-item\"><li><span><a href=\"#Импорт-и-установки\" data-toc-modified-id=\"Импорт-и-установки-1\"><span class=\"toc-item-num\">1&nbsp;&nbsp;</span>Импорт и установки</a></span></li><li><span><a href=\"#Функции\" data-toc-modified-id=\"Функции-2\"><span class=\"toc-item-num\">2&nbsp;&nbsp;</span>Функции</a></span></li><li><span><a href=\"#Настройки\" data-toc-modified-id=\"Настройки-3\"><span class=\"toc-item-num\">3&nbsp;&nbsp;</span>Настройки</a></span></li><li><span><a href=\"#Чтение-данных\" data-toc-modified-id=\"Чтение-данных-4\"><span class=\"toc-item-num\">4&nbsp;&nbsp;</span>Чтение данных</a></span></li><li><span><a href=\"#Подготовка\" data-toc-modified-id=\"Подготовка-5\"><span class=\"toc-item-num\">5&nbsp;&nbsp;</span>Подготовка</a></span></li><li><span><a href=\"#Обучение\" data-toc-modified-id=\"Обучение-6\"><span class=\"toc-item-num\">6&nbsp;&nbsp;</span>Обучение</a></span><ul class=\"toc-item\"><li><span><a href=\"#Без-BERT\" data-toc-modified-id=\"Без-BERT-6.1\"><span class=\"toc-item-num\">6.1&nbsp;&nbsp;</span>Без BERT</a></span></li></ul></li><li><span><a href=\"#Выводы\" data-toc-modified-id=\"Выводы-7\"><span class=\"toc-item-num\">7&nbsp;&nbsp;</span>Выводы</a></span></li></ul></div>"
   ]
  },
  {
   "cell_type": "markdown",
   "metadata": {},
   "source": [
    "# Проект для «Викишоп»"
   ]
  },
  {
   "cell_type": "markdown",
   "metadata": {},
   "source": [
    "Интернет-магазин «Викишоп» запускает новый сервис. Теперь пользователи могут редактировать и дополнять описания товаров, как в вики-сообществах. То есть клиенты предлагают свои правки и комментируют изменения других. Магазину нужен инструмент, который будет искать токсичные комментарии и отправлять их на модерацию. \n",
    "\n",
    "Обучите модель классифицировать комментарии на позитивные и негативные. В вашем распоряжении набор данных с разметкой о токсичности правок.\n",
    "\n",
    "Постройте модель со значением метрики качества *F1* не меньше 0.75. \n",
    "\n",
    "**Инструкция по выполнению проекта**\n",
    "\n",
    "1. Загрузите и подготовьте данные.\n",
    "2. Обучите разные модели. \n",
    "3. Сделайте выводы.\n",
    "\n",
    "Для выполнения проекта применять *BERT* необязательно, но вы можете попробовать.\n",
    "\n",
    "**Описание данных**\n",
    "\n",
    "Данные находятся в файле `toxic_comments.csv`. Столбец *text* в нём содержит текст комментария, а *toxic* — целевой признак."
   ]
  },
  {
   "cell_type": "markdown",
   "metadata": {},
   "source": [
    "## Импорт и установки"
   ]
  },
  {
   "cell_type": "code",
   "execution_count": 1,
   "metadata": {},
   "outputs": [],
   "source": [
    "import pandas as pd\n",
    "import numpy as np\n",
    "import re\n",
    "\n",
    "import warnings\n",
    "import time\n",
    "\n",
    "import matplotlib.pyplot as plt\n",
    "import seaborn as sns\n",
    "from matplotlib.colors import LinearSegmentedColormap\n",
    "import plotly.graph_objects as go\n",
    "import plotly.io as pio\n",
    "from mpl_toolkits.mplot3d import Axes3D\n",
    "\n",
    "import nltk\n",
    "from nltk.corpus import stopwords  \n",
    "import spacy\n",
    "from tqdm.notebook import tqdm\n",
    "\n",
    "from sklearn.feature_extraction.text import TfidfVectorizer\n",
    "from sklearn.model_selection import train_test_split,GridSearchCV,cross_val_score\n",
    "from sklearn.linear_model import LogisticRegression, PassiveAggressiveClassifier\n",
    "from sklearn.tree import DecisionTreeClassifier\n",
    "from sklearn.ensemble import RandomForestClassifier\n",
    "from sklearn.metrics import f1_score, make_scorer, classification_report\n",
    "from sklearn.pipeline import Pipeline\n",
    "\n",
    "from catboost import CatBoostClassifier\n",
    "\n",
    "from transformers import BertTokenizer, BertForSequenceClassification, AdamW\n",
    "\n",
    "from torch.utils.data import DataLoader, Dataset\n",
    "import torch"
   ]
  },
  {
   "cell_type": "markdown",
   "metadata": {},
   "source": [
    "## Функции"
   ]
  },
  {
   "cell_type": "code",
   "execution_count": 2,
   "metadata": {},
   "outputs": [],
   "source": [
    "# Function to Get Data Information\n",
    "\n",
    "def explore_dataframe(df):\n",
    "#     # Shape\n",
    "#     shape_info = pd.DataFrame({\"Shape of dataframe\": [f\"Total: {df.shape[0]} rows, {df.shape[1]} columns\"]})\n",
    "#     shape_info = shape_info.replace(np.nan, \"-\")\n",
    "    \n",
    "    # Data Types\n",
    "    data_types_info = df.dtypes.to_frame().reset_index().rename(columns={\"index\": \"Тип данных\", 0: \"\"})\n",
    "    \n",
    "    # Missing Values\n",
    "    missing_values_info = df.isnull().sum().to_frame().reset_index().rename(columns={\"index\": \"Пропущенные значения\", 0: \"\"})\n",
    "    missing_values_info[\"Пропущенные значения\"] = missing_values_info[\"Пропущенные значения\"].fillna(\"-\")\n",
    "    \n",
    "    # Duplicate Rows\n",
    "    duplicate_rows_info = pd.DataFrame({\"Дубликаты значений\": [f\"Всего: {df.duplicated().sum()}\"]})\n",
    "    duplicate_rows_info = duplicate_rows_info.replace(np.nan, \"-\")\n",
    "    \n",
    "     # Unique Values\n",
    "    unique_values_info = df.nunique().to_frame().reset_index().rename(columns={\"index\": \"Столбец\", 0: \"Уникальных значений\"})\n",
    "    \n",
    "    # Describe\n",
    "    describe_info = df.describe().transpose().reset_index().rename(columns={\"index\": \"Столбец\"})\n",
    "\n",
    "    # Concatenate tables\n",
    "    info_table = pd.concat([data_types_info, missing_values_info, unique_values_info], axis=1) #shape_info, delite this for a while\n",
    "    \n",
    "    \n",
    "    # Display tables\n",
    "    display(df.sample())\n",
    "    display(df.describe())  \n",
    "    display(info_table)"
   ]
  },
  {
   "cell_type": "markdown",
   "metadata": {},
   "source": [
    "## Настройки"
   ]
  },
  {
   "cell_type": "code",
   "execution_count": 3,
   "metadata": {},
   "outputs": [],
   "source": [
    "# TextStyle\n",
    "\n",
    "class f:    \n",
    "    BOLD = \"\\033[1m\"     # Bold text\n",
    "    ITALIC = \"\\033[3m\"   # Italic text\n",
    "    END = \"\\033[0m\"      # Reset style"
   ]
  },
  {
   "cell_type": "code",
   "execution_count": 4,
   "metadata": {},
   "outputs": [],
   "source": [
    "# Matplotlib, Seaborn\n",
    "\n",
    "PLOT_DPI = 150 # dpi for drawing charts\n",
    "sns.set_style('whitegrid', {'axes.facecolor': '0.98', 'grid.color': '0.9', 'axes.edgecolor': '1.0'})\n",
    "plt.rc('axes', labelweight='bold', titlesize=16, titlepad=10)\n",
    "\n",
    "# Plotly Graph_Objects\n",
    "pio.templates['my_theme'] = go.layout.Template(\n",
    "    layout_autosize=True,\n",
    "    layout_height=200,\n",
    "    layout_legend_orientation=\"h\",\n",
    "    layout_margin=dict(t=40, b=40),\n",
    "    layout_template='seaborn'\n",
    ")\n",
    "pio.templates.default = 'my_theme'\n",
    "\n",
    "# colors, color schemes\n",
    "CMAP_SYMMETRIC = LinearSegmentedColormap.from_list('', ['gray', 'steelblue', 'hotpink'])"
   ]
  },
  {
   "cell_type": "code",
   "execution_count": 5,
   "metadata": {},
   "outputs": [],
   "source": [
    "# Pandas defaults\n",
    "\n",
    "pd.options.display.max_colwidth = 100\n",
    "pd.options.display.max_rows = 500\n",
    "pd.options.display.max_columns = 100\n",
    "pd.options.display.float_format = '{:.3f}'.format\n",
    "pd.options.display.colheader_justify = 'left'"
   ]
  },
  {
   "cell_type": "code",
   "execution_count": 6,
   "metadata": {},
   "outputs": [],
   "source": [
    "# Disable warnings\n",
    "\n",
    "warnings.filterwarnings('ignore')"
   ]
  },
  {
   "cell_type": "markdown",
   "metadata": {},
   "source": [
    "## Чтение данных"
   ]
  },
  {
   "cell_type": "code",
   "execution_count": 7,
   "metadata": {},
   "outputs": [],
   "source": [
    "data = pd.read_csv('/datasets/toxic_comments.csv',index_col=0)"
   ]
  },
  {
   "cell_type": "code",
   "execution_count": 8,
   "metadata": {},
   "outputs": [
    {
     "data": {
      "text/html": [
       "<div>\n",
       "<style scoped>\n",
       "    .dataframe tbody tr th:only-of-type {\n",
       "        vertical-align: middle;\n",
       "    }\n",
       "\n",
       "    .dataframe tbody tr th {\n",
       "        vertical-align: top;\n",
       "    }\n",
       "\n",
       "    .dataframe thead th {\n",
       "        text-align: right;\n",
       "    }\n",
       "</style>\n",
       "<table border=\"1\" class=\"dataframe\">\n",
       "  <thead>\n",
       "    <tr style=\"text-align: left;\">\n",
       "      <th></th>\n",
       "      <th>text</th>\n",
       "      <th>toxic</th>\n",
       "    </tr>\n",
       "  </thead>\n",
       "  <tbody>\n",
       "    <tr>\n",
       "      <th>42274</th>\n",
       "      <td>Look, I'm a lawyer and historian by occupation, and heraldry is my hoby. As in most european sta...</td>\n",
       "      <td>0</td>\n",
       "    </tr>\n",
       "  </tbody>\n",
       "</table>\n",
       "</div>"
      ],
      "text/plain": [
       "      text                                                                                                  \\\n",
       "42274  Look, I'm a lawyer and historian by occupation, and heraldry is my hoby. As in most european sta...   \n",
       "\n",
       "       toxic  \n",
       "42274  0      "
      ]
     },
     "metadata": {},
     "output_type": "display_data"
    },
    {
     "data": {
      "text/html": [
       "<div>\n",
       "<style scoped>\n",
       "    .dataframe tbody tr th:only-of-type {\n",
       "        vertical-align: middle;\n",
       "    }\n",
       "\n",
       "    .dataframe tbody tr th {\n",
       "        vertical-align: top;\n",
       "    }\n",
       "\n",
       "    .dataframe thead th {\n",
       "        text-align: right;\n",
       "    }\n",
       "</style>\n",
       "<table border=\"1\" class=\"dataframe\">\n",
       "  <thead>\n",
       "    <tr style=\"text-align: left;\">\n",
       "      <th></th>\n",
       "      <th>toxic</th>\n",
       "    </tr>\n",
       "  </thead>\n",
       "  <tbody>\n",
       "    <tr>\n",
       "      <th>count</th>\n",
       "      <td>159292.000</td>\n",
       "    </tr>\n",
       "    <tr>\n",
       "      <th>mean</th>\n",
       "      <td>0.102</td>\n",
       "    </tr>\n",
       "    <tr>\n",
       "      <th>std</th>\n",
       "      <td>0.302</td>\n",
       "    </tr>\n",
       "    <tr>\n",
       "      <th>min</th>\n",
       "      <td>0.000</td>\n",
       "    </tr>\n",
       "    <tr>\n",
       "      <th>25%</th>\n",
       "      <td>0.000</td>\n",
       "    </tr>\n",
       "    <tr>\n",
       "      <th>50%</th>\n",
       "      <td>0.000</td>\n",
       "    </tr>\n",
       "    <tr>\n",
       "      <th>75%</th>\n",
       "      <td>0.000</td>\n",
       "    </tr>\n",
       "    <tr>\n",
       "      <th>max</th>\n",
       "      <td>1.000</td>\n",
       "    </tr>\n",
       "  </tbody>\n",
       "</table>\n",
       "</div>"
      ],
      "text/plain": [
       "       toxic    \n",
       "count 159292.000\n",
       "mean       0.102\n",
       "std        0.302\n",
       "min        0.000\n",
       "25%        0.000\n",
       "50%        0.000\n",
       "75%        0.000\n",
       "max        1.000"
      ]
     },
     "metadata": {},
     "output_type": "display_data"
    },
    {
     "data": {
      "text/html": [
       "<div>\n",
       "<style scoped>\n",
       "    .dataframe tbody tr th:only-of-type {\n",
       "        vertical-align: middle;\n",
       "    }\n",
       "\n",
       "    .dataframe tbody tr th {\n",
       "        vertical-align: top;\n",
       "    }\n",
       "\n",
       "    .dataframe thead th {\n",
       "        text-align: right;\n",
       "    }\n",
       "</style>\n",
       "<table border=\"1\" class=\"dataframe\">\n",
       "  <thead>\n",
       "    <tr style=\"text-align: left;\">\n",
       "      <th></th>\n",
       "      <th>Тип данных</th>\n",
       "      <th></th>\n",
       "      <th>Пропущенные значения</th>\n",
       "      <th></th>\n",
       "      <th>Столбец</th>\n",
       "      <th>Уникальных значений</th>\n",
       "    </tr>\n",
       "  </thead>\n",
       "  <tbody>\n",
       "    <tr>\n",
       "      <th>0</th>\n",
       "      <td>text</td>\n",
       "      <td>object</td>\n",
       "      <td>text</td>\n",
       "      <td>0</td>\n",
       "      <td>text</td>\n",
       "      <td>159292</td>\n",
       "    </tr>\n",
       "    <tr>\n",
       "      <th>1</th>\n",
       "      <td>toxic</td>\n",
       "      <td>int64</td>\n",
       "      <td>toxic</td>\n",
       "      <td>0</td>\n",
       "      <td>toxic</td>\n",
       "      <td>2</td>\n",
       "    </tr>\n",
       "  </tbody>\n",
       "</table>\n",
       "</div>"
      ],
      "text/plain": [
       "  Тип данных         Пропущенные значения    Столбец  Уникальных значений\n",
       "0   text      object   text                0   text   159292             \n",
       "1  toxic       int64  toxic                0  toxic        2             "
      ]
     },
     "metadata": {},
     "output_type": "display_data"
    }
   ],
   "source": [
    "explore_dataframe(data)"
   ]
  },
  {
   "cell_type": "code",
   "execution_count": 9,
   "metadata": {},
   "outputs": [
    {
     "data": {
      "text/plain": [
       "0   0.898\n",
       "1   0.102\n",
       "Name: toxic, dtype: float64"
      ]
     },
     "execution_count": 9,
     "metadata": {},
     "output_type": "execute_result"
    }
   ],
   "source": [
    "# Проверка баланса классов\n",
    "\n",
    "data['toxic'].value_counts(normalize=True)"
   ]
  },
  {
   "cell_type": "code",
   "execution_count": 10,
   "metadata": {},
   "outputs": [
    {
     "data": {
      "image/png": "[encoded data removed]",
      "text/plain": [
       "<Figure size 432x288 with 1 Axes>"
      ]
     },
     "metadata": {},
     "output_type": "display_data"
    }
   ],
   "source": [
    "data_list = {\n",
    "    0: 0.898,\n",
    "    1: 0.102\n",
    "}\n",
    "\n",
    "colors = ['gray', 'hotpink']\n",
    "\n",
    "plt.figure(figsize=(6, 4))\n",
    "plt.bar(data_list.keys(), data_list.values(), color=colors)\n",
    "plt.xlabel('Toxic')\n",
    "plt.ylabel('Normalized Count')\n",
    "plt.title('Distribution of Toxic Labels')\n",
    "plt.xticks(list(data_list.keys()), ['Non-Toxic', 'Toxic'])\n",
    "plt.ylim(0, 1) \n",
    "plt.show()"
   ]
  },
  {
   "cell_type": "markdown",
   "metadata": {},
   "source": [
    "> Для исследования представлен датасет со 152 292 комментариями, пропущенных значений нет. В классах наблюдается дисбаланс. Негативных комментариев в разы меньше, чем позитивных или нейтральных"
   ]
  },
  {
   "cell_type": "markdown",
   "metadata": {},
   "source": [
    "## Подготовка"
   ]
  },
  {
   "cell_type": "code",
   "execution_count": 11,
   "metadata": {},
   "outputs": [],
   "source": [
    "data = data[['text', 'toxic']]"
   ]
  },
  {
   "cell_type": "code",
   "execution_count": 12,
   "metadata": {},
   "outputs": [],
   "source": [
    "data['text'] = data['text'].str.lower()"
   ]
  },
  {
   "cell_type": "code",
   "execution_count": 13,
   "metadata": {},
   "outputs": [],
   "source": [
    "data['text'] = data['text'].apply(lambda x: re.sub(r'[^a-zA-Z0-9]', ' ', x))"
   ]
  },
  {
   "cell_type": "code",
   "execution_count": 14,
   "metadata": {},
   "outputs": [
    {
     "name": "stderr",
     "output_type": "stream",
     "text": [
      "[nltk_data] Downloading package punkt to /home/jovyan/nltk_data...\n",
      "[nltk_data]   Package punkt is already up-to-date!\n"
     ]
    }
   ],
   "source": [
    "nltk.download('punkt')\n",
    "\n",
    "data['text'] = data['text'].apply(lambda x: nltk.word_tokenize(x))"
   ]
  },
  {
   "cell_type": "code",
   "execution_count": 15,
   "metadata": {},
   "outputs": [],
   "source": [
    "# nltk.download('stopwords')\n",
    "# stop_words = set(stopwords.words('english'))\n",
    "# data['text'] = data['text'].apply(lambda x: [word for word in x if word not in stop_words])"
   ]
  },
  {
   "cell_type": "code",
   "execution_count": 16,
   "metadata": {},
   "outputs": [],
   "source": [
    "nlp = spacy.load('en_core_web_sm', disable=['parser', 'ner'])"
   ]
  },
  {
   "cell_type": "code",
   "execution_count": 17,
   "metadata": {},
   "outputs": [
    {
     "name": "stdout",
     "output_type": "stream",
     "text": [
      "CPU times: user 16min 46s, sys: 3.54 s, total: 16min 49s\n",
      "Wall time: 16min 51s\n"
     ]
    }
   ],
   "source": [
    "%%time\n",
    "\n",
    "data['text'] = data['text'].apply(lambda x: [token.lemma_ for token in nlp(\" \".join(x))])"
   ]
  },
  {
   "cell_type": "code",
   "execution_count": 18,
   "metadata": {},
   "outputs": [
    {
     "name": "stdout",
     "output_type": "stream",
     "text": [
      "CPU times: user 510 ms, sys: 3.99 ms, total: 514 ms\n",
      "Wall time: 521 ms\n"
     ]
    }
   ],
   "source": [
    "%%time\n",
    "\n",
    "# Объединение лемматизированных токенов обратно в предложения\n",
    "\n",
    "data['text'] = data['text'].apply(lambda x: ' '.join(x))"
   ]
  },
  {
   "cell_type": "markdown",
   "metadata": {},
   "source": [
    "> Оставляем в данных только столбцы `text` и `toxic`, удаляя все остальные. Это нужно, чтобы сосредоточить обучение на текстовых данных и целевой переменной  \n",
    "\n",
    "> Приводим все текстовые данные в столбце `text` к нижнему регистру. Это нужно для того, чтобы учесть различия в регистре слов, например, чтобы слова \"Toxic\" и \"toxic\" рассматривались как одно и то же слово  \n",
    "\n",
    "> Используем регулярные выражения для замены всех символов, кроме букв и цифр, на пробелы. Это помогает удалить все специальные символы и знаки пунктуации из текста  \n",
    "\n",
    "> Загружаем пакет `punkt` из библиотеки `nltk`, который содержит предобученные токенизаторы. Этот пакет используется для токенизации текста на отдельные слова или токены. После чего, применяем токенизатор к каждому текстовому комментарию в столбце `text`  \n",
    "\n",
    "> Загружаем пакет `stopwords` из библиотеки `nltk`. Этот пакет содержит стоп-слова, которые часто встречаются в текстах и не несут смысловой нагрузки. Они будут удалены из текста на следующем шаге и сохранены в переменную `stop_words`\n",
    "\n",
    "> Применяем фильтрацию, чтобы удалить стоп-слова из каждого комментария. Используем лямбда-функцию внутри метода apply, чтобы отфильтровать только те слова, которых нет в списке стоп-слов  \n",
    "\n",
    "> Применяем лемматизацию и объединяем токены обратно в текстовые комментарии, используя пробел в качестве разделителя. Это позволит представить обработанные тексты в виде строк для дальнейшей обработки и обучения моделей  "
   ]
  },
  {
   "cell_type": "markdown",
   "metadata": {},
   "source": [
    "## Обучение"
   ]
  },
  {
   "cell_type": "code",
   "execution_count": 19,
   "metadata": {},
   "outputs": [],
   "source": [
    "features = data['text']\n",
    "target = data['toxic']"
   ]
  },
  {
   "cell_type": "code",
   "execution_count": 20,
   "metadata": {},
   "outputs": [],
   "source": [
    "_, features_subsample, _, target_subsample = train_test_split(\n",
    "    features, target, test_size=0.2, random_state=12345, stratify=target\n",
    ")"
   ]
  },
  {
   "cell_type": "code",
   "execution_count": 21,
   "metadata": {},
   "outputs": [],
   "source": [
    "# Разделение данных на обучающий и тестовый наборы\n",
    "\n",
    "features_train, features_test, target_train, target_test = train_test_split(\n",
    "    features_subsample, target_subsample, test_size=0.2, random_state=12345, stratify=target_subsample\n",
    ")"
   ]
  },
  {
   "cell_type": "code",
   "execution_count": 22,
   "metadata": {},
   "outputs": [
    {
     "name": "stdout",
     "output_type": "stream",
     "text": [
      "Количество строк в y_train по классам: [22897  2590]\n",
      "Количество строк в y_test по классам: [5725  647]\n"
     ]
    }
   ],
   "source": [
    "print(f\"Количество строк в y_train по классам: {np.bincount(target_train)}\")\n",
    "print(f\"Количество строк в y_test по классам: {np.bincount(target_test)}\")"
   ]
  },
  {
   "cell_type": "code",
   "execution_count": 23,
   "metadata": {},
   "outputs": [
    {
     "data": {
      "text/plain": [
       "((25487,), (6372,), (25487,), (6372,))"
      ]
     },
     "execution_count": 23,
     "metadata": {},
     "output_type": "execute_result"
    }
   ],
   "source": [
    "features_train.shape, features_test.shape, target_train.shape, target_test.shape "
   ]
  },
  {
   "cell_type": "code",
   "execution_count": 24,
   "metadata": {},
   "outputs": [],
   "source": [
    "# TF-IDF векторизация\n",
    "\n",
    "# count_tf_idf = TfidfVectorizer()"
   ]
  },
  {
   "cell_type": "code",
   "execution_count": 25,
   "metadata": {},
   "outputs": [],
   "source": [
    "# Преобразование текста в матрицу  \n",
    "\n",
    "# features_train = count_tf_idf.fit_transform(features_train.values)\n",
    "# features_test = count_tf_idf.transform(features_test.values)"
   ]
  },
  {
   "cell_type": "code",
   "execution_count": 26,
   "metadata": {},
   "outputs": [
    {
     "name": "stdout",
     "output_type": "stream",
     "text": [
      "features_train:(25487,)\n",
      "features_test:(6372,)\n"
     ]
    }
   ],
   "source": [
    "print(f'features_train:{features_train.shape}')\n",
    "print(f'features_test:{features_test.shape}')"
   ]
  },
  {
   "cell_type": "markdown",
   "metadata": {},
   "source": [
    "### Без BERT"
   ]
  },
  {
   "cell_type": "code",
   "execution_count": 27,
   "metadata": {},
   "outputs": [],
   "source": [
    "logreg_model = LogisticRegression(random_state=12345)\n",
    "pa_model = PassiveAggressiveClassifier(random_state=12345)"
   ]
  },
  {
   "cell_type": "code",
   "execution_count": 28,
   "metadata": {},
   "outputs": [],
   "source": [
    "pipeline = Pipeline([\n",
    "    ('tfidf', TfidfVectorizer(stop_words=\"english\")), \n",
    "    ('clf', None)\n",
    "])"
   ]
  },
  {
   "cell_type": "code",
   "execution_count": 29,
   "metadata": {},
   "outputs": [],
   "source": [
    "param_grids = [\n",
    "    {\n",
    "        'tfidf__ngram_range': [(1, 1), (1, 2)],  # Для Logistic Regression\n",
    "        'clf': [logreg_model],\n",
    "        'clf__C': [1, 10, 100]\n",
    "    },\n",
    "    {\n",
    "        'tfidf__ngram_range': [(1, 1), (1, 2)],  # Для Passive Aggressive Classifier\n",
    "        'clf': [pa_model],\n",
    "        'clf__C': [1, 10, 100]\n",
    "    }\n",
    "]\n"
   ]
  },
  {
   "cell_type": "code",
   "execution_count": 30,
   "metadata": {},
   "outputs": [
    {
     "name": "stdout",
     "output_type": "stream",
     "text": [
      "{'clf': LogisticRegression(C=100, random_state=12345), 'clf__C': 100, 'tfidf__ngram_range': (1, 1)}\n",
      "0.7257869338206547\n",
      "{'clf': PassiveAggressiveClassifier(C=1, random_state=12345), 'clf__C': 1, 'tfidf__ngram_range': (1, 2)}\n",
      "0.742958166694406\n",
      "CPU times: user 5min 31s, sys: 5min 18s, total: 10min 50s\n",
      "Wall time: 10min 51s\n"
     ]
    }
   ],
   "source": [
    "%%time\n",
    "\n",
    "for param_grid in param_grids:\n",
    "    grid_search = GridSearchCV(\n",
    "        pipeline,\n",
    "        param_grid,\n",
    "        scoring=make_scorer(f1_score),\n",
    "        cv=3\n",
    "    )\n",
    "    grid_search.fit(features_train, target_train)\n",
    "    \n",
    "    print(grid_search.best_params_)\n",
    "    print(grid_search.best_score_)"
   ]
  },
  {
   "cell_type": "code",
   "execution_count": 31,
   "metadata": {},
   "outputs": [],
   "source": [
    "best_params = grid_search.best_params_\n",
    "best_model = grid_search.best_estimator_"
   ]
  },
  {
   "cell_type": "code",
   "execution_count": 32,
   "metadata": {},
   "outputs": [
    {
     "name": "stdout",
     "output_type": "stream",
     "text": [
      "F1 на кросс-валидации: [0.71919521 0.74295817 0.71164313 0.73797653 0.71164313 0.73797653]\n"
     ]
    }
   ],
   "source": [
    "# Оценим модель на кросс-валидации\n",
    "\n",
    "f1_scores_cv = grid_search.cv_results_['mean_test_score']\n",
    "print('F1 на кросс-валидации:', f1_scores_cv)"
   ]
  },
  {
   "cell_type": "code",
   "execution_count": 33,
   "metadata": {},
   "outputs": [
    {
     "name": "stdout",
     "output_type": "stream",
     "text": [
      "F1 метрика на тестовых данных: 0.7605150214592276\n"
     ]
    }
   ],
   "source": [
    "# Оценим модель на тестовых данных (для финальной оценки)\n",
    "\n",
    "predictions_test = best_model.predict(features_test)\n",
    "f1_score_test = f1_score(target_test, predictions_test)\n",
    "print(f'F1 метрика на тестовых данных: {f1_score_test}')"
   ]
  },
  {
   "cell_type": "markdown",
   "metadata": {},
   "source": [
    "## Выводы"
   ]
  },
  {
   "cell_type": "markdown",
   "metadata": {},
   "source": [
    "По условию исследования, мы должны получить модель с метрикой F1 не менее 0.75. Этим требованиям отвечают:  \n",
    "\n",
    "* F1 метрика на valid данных (Логистическая регрессия): 0.77389811104751  \n",
    "  F1 на кросс-валидации для Логистическая регрессия: 0.7596033708270826  \n",
    "  \n",
    "* F1 метрика на valid данных (CatBoost): 0.7626514611546685  \n",
    "  F1 на кросс-валидации для CatBoost: 0.7412103714786276 (почти)  \n",
    "  \n",
    "Матрица ошибок также показала неплохие результаты для этих моделей. С учетом того, что в классах был дисбаланс мы могли бы улучшить способность модели предсказывать токсичные комментарии - дополнив их количество. Но сортировать комментарии на базе обучения положительными - также является вариантом выполнения поставленной задачи  "
   ]
  }
 ],
 "metadata": {
  "ExecuteTimeLog": [
   {
    "duration": 5254,
    "start_time": "2023-08-07T08:23:33.081Z"
   },
   {
    "duration": 2266,
    "start_time": "2023-08-07T10:39:03.201Z"
   },
   {
    "duration": 4,
    "start_time": "2023-08-07T10:39:05.556Z"
   },
   {
    "duration": 782,
    "start_time": "2023-08-07T10:39:06.747Z"
   },
   {
    "duration": 18,
    "start_time": "2023-08-07T10:39:20.352Z"
   },
   {
    "duration": 14,
    "start_time": "2023-08-07T10:54:41.961Z"
   },
   {
    "duration": 242,
    "start_time": "2023-08-07T10:54:42.888Z"
   },
   {
    "duration": 3264,
    "start_time": "2023-08-07T10:54:47.245Z"
   },
   {
    "duration": 48870,
    "start_time": "2023-08-07T10:54:53.173Z"
   },
   {
    "duration": 6,
    "start_time": "2023-08-07T10:55:42.045Z"
   },
   {
    "duration": 8,
    "start_time": "2023-08-07T10:55:55.589Z"
   },
   {
    "duration": 1822,
    "start_time": "2023-08-07T10:55:57.790Z"
   },
   {
    "duration": 336,
    "start_time": "2023-08-07T10:56:03.404Z"
   },
   {
    "duration": 42,
    "start_time": "2023-08-07T10:56:14.189Z"
   },
   {
    "duration": 5,
    "start_time": "2023-08-07T10:56:48.864Z"
   },
   {
    "duration": 6,
    "start_time": "2023-08-07T10:56:55.704Z"
   },
   {
    "duration": 3477,
    "start_time": "2023-08-07T10:56:59.695Z"
   },
   {
    "duration": 5,
    "start_time": "2023-08-07T10:57:07.061Z"
   },
   {
    "duration": 9433,
    "start_time": "2023-08-07T10:57:11.231Z"
   },
   {
    "duration": 22,
    "start_time": "2023-08-07T10:57:24.820Z"
   },
   {
    "duration": 85,
    "start_time": "2023-08-07T10:57:40.826Z"
   },
   {
    "duration": 2600,
    "start_time": "2023-08-07T10:57:45.878Z"
   },
   {
    "duration": 6,
    "start_time": "2023-08-07T11:01:17.298Z"
   },
   {
    "duration": 2864,
    "start_time": "2023-08-07T11:01:19.922Z"
   },
   {
    "duration": 4,
    "start_time": "2023-08-07T11:01:24.268Z"
   },
   {
    "duration": 2802,
    "start_time": "2023-08-07T11:01:25.306Z"
   },
   {
    "duration": 12,
    "start_time": "2023-08-07T11:01:30.263Z"
   },
   {
    "duration": 35,
    "start_time": "2023-08-07T11:01:37.388Z"
   },
   {
    "duration": 1927,
    "start_time": "2023-08-07T11:01:40.493Z"
   },
   {
    "duration": 6,
    "start_time": "2023-08-07T11:03:11.235Z"
   },
   {
    "duration": 6,
    "start_time": "2023-08-07T11:04:10.196Z"
   },
   {
    "duration": 2761,
    "start_time": "2023-08-07T11:04:11.458Z"
   },
   {
    "duration": 3,
    "start_time": "2023-08-07T11:04:15.454Z"
   },
   {
    "duration": 2299,
    "start_time": "2023-08-07T11:04:17.513Z"
   },
   {
    "duration": 10,
    "start_time": "2023-08-07T11:04:23.793Z"
   },
   {
    "duration": 33,
    "start_time": "2023-08-07T11:04:30.071Z"
   },
   {
    "duration": 3108,
    "start_time": "2023-08-07T11:04:33.699Z"
   },
   {
    "duration": 5,
    "start_time": "2023-08-07T11:33:00.055Z"
   },
   {
    "duration": 3006,
    "start_time": "2023-08-07T11:33:02.796Z"
   },
   {
    "duration": 371,
    "start_time": "2023-08-07T11:33:08.327Z"
   },
   {
    "duration": 4,
    "start_time": "2023-08-07T11:33:12.352Z"
   },
   {
    "duration": 4,
    "start_time": "2023-08-07T11:33:15.167Z"
   },
   {
    "duration": 2551,
    "start_time": "2023-08-07T11:33:16.598Z"
   },
   {
    "duration": 13,
    "start_time": "2023-08-07T11:33:21.308Z"
   },
   {
    "duration": 423,
    "start_time": "2023-08-07T11:33:27.068Z"
   },
   {
    "duration": 3232,
    "start_time": "2023-08-07T11:33:28.908Z"
   },
   {
    "duration": 3,
    "start_time": "2023-08-07T14:31:41.333Z"
   },
   {
    "duration": 2548,
    "start_time": "2023-08-07T14:31:46.005Z"
   },
   {
    "duration": 4,
    "start_time": "2023-08-07T14:33:53.297Z"
   },
   {
    "duration": 3,
    "start_time": "2023-08-07T14:36:58.173Z"
   },
   {
    "duration": 2,
    "start_time": "2023-08-07T14:36:59.553Z"
   },
   {
    "duration": 20,
    "start_time": "2023-08-07T14:37:00.140Z"
   },
   {
    "duration": 4,
    "start_time": "2023-08-07T14:37:00.907Z"
   },
   {
    "duration": 598,
    "start_time": "2023-08-07T14:37:35.885Z"
   },
   {
    "duration": 7,
    "start_time": "2023-08-07T14:37:37.025Z"
   },
   {
    "duration": 402,
    "start_time": "2023-08-07T14:37:37.565Z"
   },
   {
    "duration": 4,
    "start_time": "2023-08-07T14:37:38.119Z"
   },
   {
    "duration": 79,
    "start_time": "2023-08-07T14:37:39.088Z"
   },
   {
    "duration": 4,
    "start_time": "2023-08-07T14:38:11.733Z"
   },
   {
    "duration": 3,
    "start_time": "2023-08-07T14:38:12.584Z"
   },
   {
    "duration": 59,
    "start_time": "2023-08-07T14:38:12.857Z"
   },
   {
    "duration": 3,
    "start_time": "2023-08-07T14:38:13.122Z"
   },
   {
    "duration": 2,
    "start_time": "2023-08-07T14:38:13.378Z"
   },
   {
    "duration": 2301,
    "start_time": "2023-08-07T14:38:17.047Z"
   },
   {
    "duration": 13,
    "start_time": "2023-08-07T14:38:19.350Z"
   },
   {
    "duration": 27,
    "start_time": "2023-08-07T14:38:19.365Z"
   },
   {
    "duration": 10,
    "start_time": "2023-08-07T14:39:14.752Z"
   },
   {
    "duration": 8,
    "start_time": "2023-08-07T14:39:15.680Z"
   },
   {
    "duration": 5,
    "start_time": "2023-08-07T14:45:05.507Z"
   },
   {
    "duration": 2,
    "start_time": "2023-08-07T14:45:06.985Z"
   },
   {
    "duration": 61,
    "start_time": "2023-08-07T14:45:07.794Z"
   },
   {
    "duration": 3,
    "start_time": "2023-08-07T14:45:08.463Z"
   },
   {
    "duration": 4,
    "start_time": "2023-08-07T14:45:09.180Z"
   },
   {
    "duration": 699,
    "start_time": "2023-08-07T14:45:10.966Z"
   },
   {
    "duration": 10,
    "start_time": "2023-08-07T14:45:12.574Z"
   },
   {
    "duration": 2715,
    "start_time": "2023-08-07T14:45:33.203Z"
   },
   {
    "duration": 6,
    "start_time": "2023-08-07T14:46:47.698Z"
   },
   {
    "duration": 3,
    "start_time": "2023-08-07T14:46:48.601Z"
   },
   {
    "duration": 62,
    "start_time": "2023-08-07T14:46:49.441Z"
   },
   {
    "duration": 4,
    "start_time": "2023-08-07T14:46:49.878Z"
   },
   {
    "duration": 3,
    "start_time": "2023-08-07T14:46:50.349Z"
   },
   {
    "duration": 714,
    "start_time": "2023-08-07T14:46:51.141Z"
   },
   {
    "duration": 496,
    "start_time": "2023-08-07T14:46:51.858Z"
   },
   {
    "duration": 7,
    "start_time": "2023-08-07T14:47:23.751Z"
   },
   {
    "duration": 12,
    "start_time": "2023-08-07T14:47:27.183Z"
   },
   {
    "duration": 255,
    "start_time": "2023-08-07T14:47:28.114Z"
   },
   {
    "duration": 3635,
    "start_time": "2023-08-07T14:47:29.278Z"
   },
   {
    "duration": 52696,
    "start_time": "2023-08-07T14:47:32.917Z"
   },
   {
    "duration": 491,
    "start_time": "2023-08-07T14:48:25.615Z"
   },
   {
    "duration": 4,
    "start_time": "2023-08-07T14:48:26.108Z"
   },
   {
    "duration": 2125,
    "start_time": "2023-08-07T14:48:26.114Z"
   },
   {
    "duration": 387,
    "start_time": "2023-08-07T14:48:28.241Z"
   },
   {
    "duration": 18,
    "start_time": "2023-08-07T14:53:16.315Z"
   },
   {
    "duration": 6,
    "start_time": "2023-08-07T14:54:02.475Z"
   },
   {
    "duration": 6,
    "start_time": "2023-08-07T14:54:02.915Z"
   },
   {
    "duration": 3,
    "start_time": "2023-08-07T14:54:03.361Z"
   },
   {
    "duration": 61,
    "start_time": "2023-08-07T14:54:03.591Z"
   },
   {
    "duration": 4,
    "start_time": "2023-08-07T14:54:03.827Z"
   },
   {
    "duration": 3,
    "start_time": "2023-08-07T14:54:04.021Z"
   },
   {
    "duration": 906,
    "start_time": "2023-08-07T14:54:04.505Z"
   },
   {
    "duration": 506,
    "start_time": "2023-08-07T14:54:05.414Z"
   },
   {
    "duration": 6,
    "start_time": "2023-08-07T14:54:05.922Z"
   },
   {
    "duration": 52,
    "start_time": "2023-08-07T14:54:05.929Z"
   },
   {
    "duration": 273,
    "start_time": "2023-08-07T14:54:05.982Z"
   },
   {
    "duration": 3284,
    "start_time": "2023-08-07T14:54:06.258Z"
   },
   {
    "duration": 53003,
    "start_time": "2023-08-07T14:54:09.544Z"
   },
   {
    "duration": 6,
    "start_time": "2023-08-07T14:55:02.549Z"
   },
   {
    "duration": 39,
    "start_time": "2023-08-07T14:55:02.556Z"
   },
   {
    "duration": 2642,
    "start_time": "2023-08-07T14:55:02.597Z"
   },
   {
    "duration": 378,
    "start_time": "2023-08-07T14:55:05.241Z"
   },
   {
    "duration": 30,
    "start_time": "2023-08-07T14:55:05.621Z"
   },
   {
    "duration": 23,
    "start_time": "2023-08-07T14:55:05.653Z"
   },
   {
    "duration": 4850,
    "start_time": "2023-08-07T14:55:05.677Z"
   },
   {
    "duration": 20,
    "start_time": "2023-08-07T14:55:10.529Z"
   },
   {
    "duration": 0,
    "start_time": "2023-08-07T14:55:10.551Z"
   },
   {
    "duration": 0,
    "start_time": "2023-08-07T14:55:10.553Z"
   },
   {
    "duration": 0,
    "start_time": "2023-08-07T14:55:10.554Z"
   },
   {
    "duration": 6,
    "start_time": "2023-08-07T14:55:34.915Z"
   },
   {
    "duration": 6,
    "start_time": "2023-08-07T14:55:35.327Z"
   },
   {
    "duration": 3,
    "start_time": "2023-08-07T14:55:35.740Z"
   },
   {
    "duration": 58,
    "start_time": "2023-08-07T14:55:35.945Z"
   },
   {
    "duration": 4,
    "start_time": "2023-08-07T14:55:36.153Z"
   },
   {
    "duration": 3,
    "start_time": "2023-08-07T14:55:36.352Z"
   },
   {
    "duration": 719,
    "start_time": "2023-08-07T14:55:36.760Z"
   },
   {
    "duration": 473,
    "start_time": "2023-08-07T14:55:37.481Z"
   },
   {
    "duration": 6,
    "start_time": "2023-08-07T14:55:37.956Z"
   },
   {
    "duration": 26,
    "start_time": "2023-08-07T14:55:37.964Z"
   },
   {
    "duration": 232,
    "start_time": "2023-08-07T14:55:37.991Z"
   },
   {
    "duration": 3126,
    "start_time": "2023-08-07T14:55:38.225Z"
   },
   {
    "duration": 48448,
    "start_time": "2023-08-07T14:55:41.353Z"
   },
   {
    "duration": 6,
    "start_time": "2023-08-07T14:56:29.803Z"
   },
   {
    "duration": 4,
    "start_time": "2023-08-07T14:56:29.812Z"
   },
   {
    "duration": 1987,
    "start_time": "2023-08-07T14:56:29.818Z"
   },
   {
    "duration": 385,
    "start_time": "2023-08-07T14:56:31.807Z"
   },
   {
    "duration": 59,
    "start_time": "2023-08-07T14:56:32.194Z"
   },
   {
    "duration": 6,
    "start_time": "2023-08-07T14:56:32.256Z"
   },
   {
    "duration": 4876,
    "start_time": "2023-08-07T14:56:32.263Z"
   },
   {
    "duration": 20347,
    "start_time": "2023-08-07T14:56:37.142Z"
   },
   {
    "duration": 7,
    "start_time": "2023-08-07T14:56:57.492Z"
   },
   {
    "duration": 115,
    "start_time": "2023-08-07T14:56:57.501Z"
   },
   {
    "duration": 1,
    "start_time": "2023-08-07T14:56:57.618Z"
   },
   {
    "duration": 7,
    "start_time": "2023-08-07T15:02:09.002Z"
   },
   {
    "duration": 2736,
    "start_time": "2023-08-07T15:12:00.583Z"
   },
   {
    "duration": 6,
    "start_time": "2023-08-07T15:12:03.320Z"
   },
   {
    "duration": 35,
    "start_time": "2023-08-07T15:12:03.328Z"
   },
   {
    "duration": 97,
    "start_time": "2023-08-07T15:12:03.365Z"
   },
   {
    "duration": 3,
    "start_time": "2023-08-07T15:12:03.465Z"
   },
   {
    "duration": 26,
    "start_time": "2023-08-07T15:12:03.469Z"
   },
   {
    "duration": 725,
    "start_time": "2023-08-07T15:12:03.497Z"
   },
   {
    "duration": 484,
    "start_time": "2023-08-07T15:12:04.223Z"
   },
   {
    "duration": 7,
    "start_time": "2023-08-07T15:12:04.709Z"
   },
   {
    "duration": 52,
    "start_time": "2023-08-07T15:12:04.718Z"
   },
   {
    "duration": 357,
    "start_time": "2023-08-07T15:12:04.774Z"
   },
   {
    "duration": 3134,
    "start_time": "2023-08-07T15:12:05.133Z"
   },
   {
    "duration": 50378,
    "start_time": "2023-08-07T15:12:08.268Z"
   },
   {
    "duration": 2040,
    "start_time": "2023-08-07T15:12:58.650Z"
   },
   {
    "duration": 597,
    "start_time": "2023-08-07T15:13:00.693Z"
   },
   {
    "duration": 0,
    "start_time": "2023-08-07T15:13:01.293Z"
   },
   {
    "duration": 0,
    "start_time": "2023-08-07T15:13:01.295Z"
   },
   {
    "duration": 0,
    "start_time": "2023-08-07T15:13:01.296Z"
   },
   {
    "duration": 0,
    "start_time": "2023-08-07T15:13:01.298Z"
   },
   {
    "duration": 0,
    "start_time": "2023-08-07T15:13:01.299Z"
   },
   {
    "duration": 0,
    "start_time": "2023-08-07T15:13:01.301Z"
   },
   {
    "duration": 0,
    "start_time": "2023-08-07T15:13:01.303Z"
   },
   {
    "duration": 0,
    "start_time": "2023-08-07T15:13:01.305Z"
   },
   {
    "duration": 959,
    "start_time": "2023-08-07T15:16:25.631Z"
   },
   {
    "duration": 683,
    "start_time": "2023-08-07T15:16:39.712Z"
   },
   {
    "duration": 1256,
    "start_time": "2023-08-07T15:17:00.099Z"
   },
   {
    "duration": 7206,
    "start_time": "2023-08-07T15:28:11.369Z"
   },
   {
    "duration": 9,
    "start_time": "2023-08-07T15:28:18.578Z"
   },
   {
    "duration": 73,
    "start_time": "2023-08-07T15:28:18.590Z"
   },
   {
    "duration": 473,
    "start_time": "2023-08-07T15:28:18.665Z"
   },
   {
    "duration": 3,
    "start_time": "2023-08-07T15:28:19.140Z"
   },
   {
    "duration": 42,
    "start_time": "2023-08-07T15:28:19.145Z"
   },
   {
    "duration": 1037,
    "start_time": "2023-08-07T15:28:19.190Z"
   },
   {
    "duration": 576,
    "start_time": "2023-08-07T15:28:20.229Z"
   },
   {
    "duration": 11,
    "start_time": "2023-08-07T15:28:20.807Z"
   },
   {
    "duration": 58,
    "start_time": "2023-08-07T15:28:20.821Z"
   },
   {
    "duration": 421,
    "start_time": "2023-08-07T15:28:20.882Z"
   },
   {
    "duration": 3192,
    "start_time": "2023-08-07T15:28:21.305Z"
   },
   {
    "duration": 54895,
    "start_time": "2023-08-07T15:28:24.499Z"
   },
   {
    "duration": 2143,
    "start_time": "2023-08-07T15:29:19.397Z"
   },
   {
    "duration": 634,
    "start_time": "2023-08-07T15:29:21.541Z"
   },
   {
    "duration": 449200,
    "start_time": "2023-08-07T15:29:22.177Z"
   },
   {
    "duration": 0,
    "start_time": "2023-08-07T15:36:51.379Z"
   },
   {
    "duration": 0,
    "start_time": "2023-08-07T15:36:51.380Z"
   },
   {
    "duration": 0,
    "start_time": "2023-08-07T15:36:51.381Z"
   },
   {
    "duration": 0,
    "start_time": "2023-08-07T15:36:51.382Z"
   },
   {
    "duration": 0,
    "start_time": "2023-08-07T15:36:51.383Z"
   },
   {
    "duration": 0,
    "start_time": "2023-08-07T15:36:51.384Z"
   },
   {
    "duration": 0,
    "start_time": "2023-08-07T15:36:51.386Z"
   },
   {
    "duration": 0,
    "start_time": "2023-08-07T15:36:51.387Z"
   },
   {
    "duration": 7,
    "start_time": "2023-08-07T15:37:13.113Z"
   },
   {
    "duration": 11,
    "start_time": "2023-08-07T15:37:13.122Z"
   },
   {
    "duration": 27,
    "start_time": "2023-08-07T15:37:13.135Z"
   },
   {
    "duration": 100,
    "start_time": "2023-08-07T15:37:13.164Z"
   },
   {
    "duration": 3,
    "start_time": "2023-08-07T15:37:13.266Z"
   },
   {
    "duration": 13,
    "start_time": "2023-08-07T15:37:13.271Z"
   },
   {
    "duration": 788,
    "start_time": "2023-08-07T15:37:13.286Z"
   },
   {
    "duration": 556,
    "start_time": "2023-08-07T15:37:14.076Z"
   },
   {
    "duration": 7,
    "start_time": "2023-08-07T15:37:14.634Z"
   },
   {
    "duration": 23,
    "start_time": "2023-08-07T15:37:14.645Z"
   },
   {
    "duration": 354,
    "start_time": "2023-08-07T15:37:14.688Z"
   },
   {
    "duration": 3449,
    "start_time": "2023-08-07T15:37:15.045Z"
   },
   {
    "duration": 54802,
    "start_time": "2023-08-07T15:37:18.496Z"
   },
   {
    "duration": 2544,
    "start_time": "2023-08-07T15:38:13.303Z"
   },
   {
    "duration": 458,
    "start_time": "2023-08-07T15:38:15.849Z"
   },
   {
    "duration": 20,
    "start_time": "2023-08-07T15:38:16.309Z"
   },
   {
    "duration": 0,
    "start_time": "2023-08-07T15:38:16.330Z"
   },
   {
    "duration": 0,
    "start_time": "2023-08-07T15:38:16.331Z"
   },
   {
    "duration": 0,
    "start_time": "2023-08-07T15:38:16.333Z"
   },
   {
    "duration": 0,
    "start_time": "2023-08-07T15:38:16.333Z"
   },
   {
    "duration": 0,
    "start_time": "2023-08-07T15:38:16.335Z"
   },
   {
    "duration": 0,
    "start_time": "2023-08-07T15:38:16.335Z"
   },
   {
    "duration": 0,
    "start_time": "2023-08-07T15:38:16.337Z"
   },
   {
    "duration": 0,
    "start_time": "2023-08-07T15:38:16.337Z"
   },
   {
    "duration": 0,
    "start_time": "2023-08-07T15:38:16.338Z"
   },
   {
    "duration": 0,
    "start_time": "2023-08-07T15:38:16.339Z"
   },
   {
    "duration": 0,
    "start_time": "2023-08-07T15:38:16.340Z"
   },
   {
    "duration": 0,
    "start_time": "2023-08-07T15:38:16.341Z"
   },
   {
    "duration": 0,
    "start_time": "2023-08-07T15:38:16.343Z"
   },
   {
    "duration": 0,
    "start_time": "2023-08-07T15:38:16.344Z"
   },
   {
    "duration": 5,
    "start_time": "2023-08-07T15:38:48.744Z"
   },
   {
    "duration": 36,
    "start_time": "2023-08-07T15:38:48.757Z"
   },
   {
    "duration": 25,
    "start_time": "2023-08-07T15:38:48.795Z"
   },
   {
    "duration": 98,
    "start_time": "2023-08-07T15:38:48.822Z"
   },
   {
    "duration": 3,
    "start_time": "2023-08-07T15:38:48.922Z"
   },
   {
    "duration": 23,
    "start_time": "2023-08-07T15:38:48.928Z"
   },
   {
    "duration": 1028,
    "start_time": "2023-08-07T15:38:48.953Z"
   },
   {
    "duration": 495,
    "start_time": "2023-08-07T15:38:49.983Z"
   },
   {
    "duration": 15,
    "start_time": "2023-08-07T15:38:50.479Z"
   },
   {
    "duration": 33,
    "start_time": "2023-08-07T15:38:50.496Z"
   },
   {
    "duration": 314,
    "start_time": "2023-08-07T15:38:50.531Z"
   },
   {
    "duration": 3238,
    "start_time": "2023-08-07T15:38:50.847Z"
   },
   {
    "duration": 53504,
    "start_time": "2023-08-07T15:38:54.087Z"
   },
   {
    "duration": 2981,
    "start_time": "2023-08-07T15:39:47.594Z"
   },
   {
    "duration": 572,
    "start_time": "2023-08-07T15:39:50.578Z"
   },
   {
    "duration": 3,
    "start_time": "2023-08-07T15:39:51.152Z"
   },
   {
    "duration": 767965,
    "start_time": "2023-08-07T15:39:51.156Z"
   },
   {
    "duration": 4,
    "start_time": "2023-08-07T15:52:39.123Z"
   },
   {
    "duration": 13,
    "start_time": "2023-08-07T15:52:39.128Z"
   },
   {
    "duration": 58,
    "start_time": "2023-08-07T15:52:39.144Z"
   },
   {
    "duration": 5,
    "start_time": "2023-08-07T15:52:39.204Z"
   },
   {
    "duration": 3,
    "start_time": "2023-08-07T15:52:39.215Z"
   },
   {
    "duration": 5332,
    "start_time": "2023-08-07T15:52:39.220Z"
   },
   {
    "duration": 4,
    "start_time": "2023-08-07T15:52:44.554Z"
   },
   {
    "duration": 421046,
    "start_time": "2023-08-07T15:52:44.559Z"
   },
   {
    "duration": 0,
    "start_time": "2023-08-07T15:59:45.607Z"
   },
   {
    "duration": 0,
    "start_time": "2023-08-07T15:59:45.608Z"
   },
   {
    "duration": 0,
    "start_time": "2023-08-07T15:59:45.609Z"
   },
   {
    "duration": 0,
    "start_time": "2023-08-07T15:59:45.610Z"
   },
   {
    "duration": 0,
    "start_time": "2023-08-07T15:59:45.612Z"
   },
   {
    "duration": 441791,
    "start_time": "2023-08-07T16:18:24.310Z"
   },
   {
    "duration": 69411,
    "start_time": "2023-08-07T16:25:46.105Z"
   },
   {
    "duration": 203913,
    "start_time": "2023-08-07T16:26:55.518Z"
   },
   {
    "duration": 1990946,
    "start_time": "2023-08-07T16:30:19.433Z"
   },
   {
    "duration": 3,
    "start_time": "2023-08-07T17:03:59.663Z"
   },
   {
    "duration": 581,
    "start_time": "2023-08-07T17:04:00.780Z"
   },
   {
    "duration": 33,
    "start_time": "2023-08-07T17:04:06.108Z"
   },
   {
    "duration": 5,
    "start_time": "2023-08-07T17:08:10.650Z"
   },
   {
    "duration": 321,
    "start_time": "2023-08-07T17:08:24.107Z"
   },
   {
    "duration": 285,
    "start_time": "2023-08-07T17:08:52.563Z"
   },
   {
    "duration": 269,
    "start_time": "2023-08-07T17:10:07.287Z"
   },
   {
    "duration": 385,
    "start_time": "2023-08-07T17:10:15.279Z"
   },
   {
    "duration": 334,
    "start_time": "2023-08-07T17:10:36.270Z"
   },
   {
    "duration": 300,
    "start_time": "2023-08-07T17:11:01.334Z"
   },
   {
    "duration": 309,
    "start_time": "2023-08-07T17:11:08.844Z"
   },
   {
    "duration": 250,
    "start_time": "2023-08-07T17:11:16.198Z"
   },
   {
    "duration": 268,
    "start_time": "2023-08-07T17:11:22.846Z"
   },
   {
    "duration": 317,
    "start_time": "2023-08-07T17:12:07.019Z"
   },
   {
    "duration": 301,
    "start_time": "2023-08-07T17:12:22.214Z"
   },
   {
    "duration": 271,
    "start_time": "2023-08-07T17:12:41.291Z"
   },
   {
    "duration": 291,
    "start_time": "2023-08-07T17:12:50.716Z"
   },
   {
    "duration": 300,
    "start_time": "2023-08-07T17:13:02.139Z"
   },
   {
    "duration": 4,
    "start_time": "2023-08-07T17:15:15.178Z"
   },
   {
    "duration": 6,
    "start_time": "2023-08-07T17:18:18.678Z"
   },
   {
    "duration": 22,
    "start_time": "2023-08-07T17:18:19.682Z"
   },
   {
    "duration": 184,
    "start_time": "2023-08-07T17:18:21.130Z"
   },
   {
    "duration": 148,
    "start_time": "2023-08-07T17:18:25.792Z"
   },
   {
    "duration": 185,
    "start_time": "2023-08-07T17:18:26.200Z"
   },
   {
    "duration": 330,
    "start_time": "2023-08-07T17:18:44.785Z"
   },
   {
    "duration": 201,
    "start_time": "2023-08-07T17:20:48.781Z"
   },
   {
    "duration": 3,
    "start_time": "2023-08-07T17:22:25.422Z"
   },
   {
    "duration": 218,
    "start_time": "2023-08-07T17:22:31.395Z"
   },
   {
    "duration": 196,
    "start_time": "2023-08-07T17:23:38.872Z"
   },
   {
    "duration": 235,
    "start_time": "2023-08-07T17:24:50.596Z"
   },
   {
    "duration": 3,
    "start_time": "2023-08-07T17:28:44.427Z"
   },
   {
    "duration": 3,
    "start_time": "2023-08-07T17:28:45.461Z"
   },
   {
    "duration": 471,
    "start_time": "2023-08-07T17:28:46.495Z"
   },
   {
    "duration": 1308,
    "start_time": "2023-08-07T17:28:51.312Z"
   },
   {
    "duration": 2422,
    "start_time": "2023-08-07T17:29:08.435Z"
   },
   {
    "duration": 604,
    "start_time": "2023-08-07T17:29:28.425Z"
   },
   {
    "duration": 1994,
    "start_time": "2023-08-07T17:30:19.019Z"
   },
   {
    "duration": 123,
    "start_time": "2023-08-07T17:31:26.815Z"
   },
   {
    "duration": 1833,
    "start_time": "2023-08-07T17:31:34.033Z"
   },
   {
    "duration": 1899,
    "start_time": "2023-08-07T17:31:52.686Z"
   },
   {
    "duration": 1813,
    "start_time": "2023-08-07T17:32:52.924Z"
   },
   {
    "duration": 515,
    "start_time": "2023-08-07T17:33:07.145Z"
   },
   {
    "duration": 1770,
    "start_time": "2023-08-07T17:33:31.955Z"
   },
   {
    "duration": 533,
    "start_time": "2023-08-07T17:33:45.475Z"
   },
   {
    "duration": 2175,
    "start_time": "2023-08-07T17:33:58.073Z"
   },
   {
    "duration": 1867,
    "start_time": "2023-08-07T17:34:31.598Z"
   },
   {
    "duration": 509,
    "start_time": "2023-08-07T17:34:46.873Z"
   },
   {
    "duration": 1861,
    "start_time": "2023-08-07T17:35:17.484Z"
   },
   {
    "duration": 523,
    "start_time": "2023-08-07T17:35:29.661Z"
   },
   {
    "duration": 1857,
    "start_time": "2023-08-07T17:35:53.226Z"
   },
   {
    "duration": 510,
    "start_time": "2023-08-07T17:36:03.944Z"
   },
   {
    "duration": 1760,
    "start_time": "2023-08-07T17:36:18.165Z"
   },
   {
    "duration": 508,
    "start_time": "2023-08-07T17:36:29.218Z"
   },
   {
    "duration": 2197,
    "start_time": "2023-08-07T17:36:45.847Z"
   },
   {
    "duration": 1789,
    "start_time": "2023-08-07T17:37:06.636Z"
   },
   {
    "duration": 515,
    "start_time": "2023-08-07T17:37:22.569Z"
   },
   {
    "duration": 1796,
    "start_time": "2023-08-07T17:37:38.449Z"
   },
   {
    "duration": 1826,
    "start_time": "2023-08-07T17:37:46.517Z"
   },
   {
    "duration": 500,
    "start_time": "2023-08-07T17:38:15.498Z"
   },
   {
    "duration": 1830,
    "start_time": "2023-08-07T17:38:26.822Z"
   },
   {
    "duration": 493,
    "start_time": "2023-08-07T17:38:35.735Z"
   },
   {
    "duration": 1776,
    "start_time": "2023-08-07T17:38:52.062Z"
   },
   {
    "duration": 929,
    "start_time": "2023-08-07T17:39:03.275Z"
   },
   {
    "duration": 1985,
    "start_time": "2023-08-07T17:39:13.158Z"
   },
   {
    "duration": 500,
    "start_time": "2023-08-07T17:39:22.047Z"
   },
   {
    "duration": 532,
    "start_time": "2023-08-07T17:42:52.578Z"
   },
   {
    "duration": 1791,
    "start_time": "2023-08-07T17:43:51.230Z"
   },
   {
    "duration": 496,
    "start_time": "2023-08-07T17:44:21.389Z"
   },
   {
    "duration": 1854,
    "start_time": "2023-08-07T17:44:34.301Z"
   },
   {
    "duration": 2038,
    "start_time": "2023-08-07T17:44:44.514Z"
   },
   {
    "duration": 1783,
    "start_time": "2023-08-07T17:44:52.798Z"
   },
   {
    "duration": 2311,
    "start_time": "2023-08-07T17:45:06.727Z"
   },
   {
    "duration": 1775,
    "start_time": "2023-08-07T17:45:18.765Z"
   },
   {
    "duration": 1771,
    "start_time": "2023-08-07T17:45:28.172Z"
   },
   {
    "duration": 200,
    "start_time": "2023-08-07T17:45:50.270Z"
   },
   {
    "duration": 189,
    "start_time": "2023-08-07T17:46:02.853Z"
   },
   {
    "duration": 183,
    "start_time": "2023-08-07T18:11:39.358Z"
   },
   {
    "duration": 1909,
    "start_time": "2023-08-07T18:12:05.453Z"
   },
   {
    "duration": 1778,
    "start_time": "2023-08-07T18:12:21.550Z"
   },
   {
    "duration": 1716,
    "start_time": "2023-08-07T18:12:41.112Z"
   },
   {
    "duration": 2185,
    "start_time": "2023-08-07T18:12:59.935Z"
   },
   {
    "duration": 3,
    "start_time": "2023-08-07T18:14:56.813Z"
   },
   {
    "duration": 1828,
    "start_time": "2023-08-07T18:14:57.685Z"
   },
   {
    "duration": 4,
    "start_time": "2023-08-07T18:23:13.086Z"
   },
   {
    "duration": 4,
    "start_time": "2023-08-07T18:23:33.417Z"
   },
   {
    "duration": 243,
    "start_time": "2023-08-07T18:23:56.249Z"
   },
   {
    "duration": 579,
    "start_time": "2023-08-07T18:24:14.716Z"
   },
   {
    "duration": 3,
    "start_time": "2023-08-07T18:26:22.171Z"
   },
   {
    "duration": 22,
    "start_time": "2023-08-07T18:26:23.205Z"
   },
   {
    "duration": 3,
    "start_time": "2023-08-07T18:26:30.319Z"
   },
   {
    "duration": 2,
    "start_time": "2023-08-07T18:26:30.771Z"
   },
   {
    "duration": 3,
    "start_time": "2023-08-07T18:26:31.358Z"
   },
   {
    "duration": 21,
    "start_time": "2023-08-07T18:26:31.902Z"
   },
   {
    "duration": 4,
    "start_time": "2023-08-07T18:27:34.159Z"
   },
   {
    "duration": 179,
    "start_time": "2023-08-07T18:27:35.058Z"
   },
   {
    "duration": 3,
    "start_time": "2023-08-07T18:27:36.656Z"
   },
   {
    "duration": 2,
    "start_time": "2023-08-07T18:27:37.569Z"
   },
   {
    "duration": 2,
    "start_time": "2023-08-07T18:27:38.461Z"
   },
   {
    "duration": 29,
    "start_time": "2023-08-07T18:27:39.201Z"
   },
   {
    "duration": 4,
    "start_time": "2023-08-07T18:31:49.373Z"
   },
   {
    "duration": 3,
    "start_time": "2023-08-07T18:31:49.918Z"
   },
   {
    "duration": 73,
    "start_time": "2023-08-07T18:31:50.472Z"
   },
   {
    "duration": 8573,
    "start_time": "2023-08-07T18:40:25.825Z"
   },
   {
    "duration": 5,
    "start_time": "2023-08-07T18:40:47.249Z"
   },
   {
    "duration": 3,
    "start_time": "2023-08-07T18:41:03.069Z"
   },
   {
    "duration": 42,
    "start_time": "2023-08-07T18:41:34.609Z"
   },
   {
    "duration": 3,
    "start_time": "2023-08-07T18:41:56.975Z"
   },
   {
    "duration": 102,
    "start_time": "2023-08-07T18:41:57.887Z"
   },
   {
    "duration": 25,
    "start_time": "2023-08-07T18:42:29.773Z"
   },
   {
    "duration": 6390,
    "start_time": "2023-08-07T18:44:56.995Z"
   },
   {
    "duration": 12,
    "start_time": "2023-08-07T18:45:03.387Z"
   },
   {
    "duration": 70,
    "start_time": "2023-08-07T18:45:03.401Z"
   },
   {
    "duration": 456,
    "start_time": "2023-08-07T18:45:03.473Z"
   },
   {
    "duration": 3,
    "start_time": "2023-08-07T18:45:03.931Z"
   },
   {
    "duration": 27,
    "start_time": "2023-08-07T18:45:03.935Z"
   },
   {
    "duration": 849,
    "start_time": "2023-08-07T18:45:03.964Z"
   },
   {
    "duration": 551,
    "start_time": "2023-08-07T18:45:04.815Z"
   },
   {
    "duration": 29,
    "start_time": "2023-08-07T18:45:05.368Z"
   },
   {
    "duration": 105,
    "start_time": "2023-08-07T18:45:05.402Z"
   },
   {
    "duration": 403,
    "start_time": "2023-08-07T18:45:05.509Z"
   },
   {
    "duration": 3598,
    "start_time": "2023-08-07T18:45:05.913Z"
   },
   {
    "duration": 54911,
    "start_time": "2023-08-07T18:45:09.514Z"
   },
   {
    "duration": 2025,
    "start_time": "2023-08-07T18:46:04.427Z"
   },
   {
    "duration": 496,
    "start_time": "2023-08-07T18:46:06.454Z"
   },
   {
    "duration": 4,
    "start_time": "2023-08-07T18:46:06.951Z"
   },
   {
    "duration": 793098,
    "start_time": "2023-08-07T18:46:06.956Z"
   },
   {
    "duration": 4,
    "start_time": "2023-08-07T18:59:20.056Z"
   },
   {
    "duration": 84,
    "start_time": "2023-08-07T18:59:20.061Z"
   },
   {
    "duration": 53,
    "start_time": "2023-08-07T18:59:20.148Z"
   },
   {
    "duration": 11,
    "start_time": "2023-08-07T18:59:20.203Z"
   },
   {
    "duration": 12,
    "start_time": "2023-08-07T18:59:20.220Z"
   },
   {
    "duration": 6237,
    "start_time": "2023-08-07T18:59:20.234Z"
   },
   {
    "duration": 5,
    "start_time": "2023-08-07T18:59:26.472Z"
   },
   {
    "duration": 0,
    "start_time": "2023-08-08T07:37:17.838Z"
   },
   {
    "duration": 7,
    "start_time": "2023-08-08T07:38:24.888Z"
   },
   {
    "duration": 26,
    "start_time": "2023-08-08T07:38:24.898Z"
   },
   {
    "duration": 12,
    "start_time": "2023-08-08T07:38:24.926Z"
   },
   {
    "duration": 107,
    "start_time": "2023-08-08T07:38:24.940Z"
   },
   {
    "duration": 4,
    "start_time": "2023-08-08T07:38:25.050Z"
   },
   {
    "duration": 13,
    "start_time": "2023-08-08T07:38:25.055Z"
   },
   {
    "duration": 839,
    "start_time": "2023-08-08T07:38:25.070Z"
   },
   {
    "duration": 571,
    "start_time": "2023-08-08T07:38:25.911Z"
   },
   {
    "duration": 6,
    "start_time": "2023-08-08T07:38:26.484Z"
   },
   {
    "duration": 23,
    "start_time": "2023-08-08T07:38:26.492Z"
   },
   {
    "duration": 376,
    "start_time": "2023-08-08T07:38:26.516Z"
   },
   {
    "duration": 3172,
    "start_time": "2023-08-08T07:38:26.895Z"
   },
   {
    "duration": 47884,
    "start_time": "2023-08-08T07:38:30.069Z"
   },
   {
    "duration": 2778,
    "start_time": "2023-08-08T07:39:17.959Z"
   },
   {
    "duration": 463,
    "start_time": "2023-08-08T07:39:20.739Z"
   },
   {
    "duration": 812241,
    "start_time": "2023-08-08T07:39:21.204Z"
   },
   {
    "duration": 575,
    "start_time": "2023-08-08T07:52:53.447Z"
   },
   {
    "duration": 5,
    "start_time": "2023-08-08T07:52:54.024Z"
   },
   {
    "duration": 390612,
    "start_time": "2023-08-08T07:52:59.975Z"
   },
   {
    "duration": 66068,
    "start_time": "2023-08-08T07:59:30.589Z"
   },
   {
    "duration": 0,
    "start_time": "2023-08-08T08:04:58.405Z"
   },
   {
    "duration": 0,
    "start_time": "2023-08-08T08:04:58.407Z"
   },
   {
    "duration": 0,
    "start_time": "2023-08-08T08:04:58.409Z"
   },
   {
    "duration": 0,
    "start_time": "2023-08-08T08:04:58.469Z"
   },
   {
    "duration": 0,
    "start_time": "2023-08-08T08:04:58.472Z"
   },
   {
    "duration": 0,
    "start_time": "2023-08-08T08:04:58.475Z"
   },
   {
    "duration": 0,
    "start_time": "2023-08-08T08:04:58.480Z"
   },
   {
    "duration": 0,
    "start_time": "2023-08-08T08:04:58.482Z"
   },
   {
    "duration": 0,
    "start_time": "2023-08-08T08:04:58.483Z"
   },
   {
    "duration": 0,
    "start_time": "2023-08-08T08:04:58.487Z"
   },
   {
    "duration": 0,
    "start_time": "2023-08-08T08:04:58.487Z"
   },
   {
    "duration": 0,
    "start_time": "2023-08-08T08:04:58.488Z"
   },
   {
    "duration": 0,
    "start_time": "2023-08-08T08:04:58.489Z"
   },
   {
    "duration": 0,
    "start_time": "2023-08-08T08:04:58.489Z"
   },
   {
    "duration": 0,
    "start_time": "2023-08-08T08:04:58.490Z"
   },
   {
    "duration": 0,
    "start_time": "2023-08-08T08:04:58.490Z"
   },
   {
    "duration": 0,
    "start_time": "2023-08-08T08:04:58.497Z"
   },
   {
    "duration": 0,
    "start_time": "2023-08-08T08:04:58.499Z"
   },
   {
    "duration": 0,
    "start_time": "2023-08-08T08:04:58.500Z"
   },
   {
    "duration": 0,
    "start_time": "2023-08-08T08:04:58.501Z"
   },
   {
    "duration": 0,
    "start_time": "2023-08-08T08:04:58.502Z"
   },
   {
    "duration": 0,
    "start_time": "2023-08-08T08:04:58.503Z"
   },
   {
    "duration": 0,
    "start_time": "2023-08-08T08:04:58.504Z"
   },
   {
    "duration": 0,
    "start_time": "2023-08-08T08:04:58.506Z"
   },
   {
    "duration": 0,
    "start_time": "2023-08-08T08:04:58.507Z"
   },
   {
    "duration": 0,
    "start_time": "2023-08-08T08:04:58.508Z"
   },
   {
    "duration": 0,
    "start_time": "2023-08-08T08:04:58.572Z"
   },
   {
    "duration": 0,
    "start_time": "2023-08-08T08:04:58.573Z"
   },
   {
    "duration": 0,
    "start_time": "2023-08-08T08:04:58.574Z"
   },
   {
    "duration": 1,
    "start_time": "2023-08-08T08:04:58.574Z"
   },
   {
    "duration": 0,
    "start_time": "2023-08-08T08:04:58.575Z"
   },
   {
    "duration": 0,
    "start_time": "2023-08-08T08:04:58.576Z"
   },
   {
    "duration": 1,
    "start_time": "2023-08-08T08:04:58.576Z"
   },
   {
    "duration": 0,
    "start_time": "2023-08-08T08:04:58.577Z"
   },
   {
    "duration": 0,
    "start_time": "2023-08-08T08:04:58.578Z"
   },
   {
    "duration": 0,
    "start_time": "2023-08-08T08:04:58.579Z"
   },
   {
    "duration": 0,
    "start_time": "2023-08-08T08:04:58.581Z"
   },
   {
    "duration": 0,
    "start_time": "2023-08-08T08:04:58.583Z"
   },
   {
    "duration": 1,
    "start_time": "2023-08-08T08:04:58.584Z"
   },
   {
    "duration": 0,
    "start_time": "2023-08-08T08:04:58.586Z"
   },
   {
    "duration": 0,
    "start_time": "2023-08-08T08:04:58.587Z"
   },
   {
    "duration": 0,
    "start_time": "2023-08-08T08:04:58.588Z"
   },
   {
    "duration": 0,
    "start_time": "2023-08-08T08:04:58.589Z"
   },
   {
    "duration": 0,
    "start_time": "2023-08-08T08:04:58.590Z"
   },
   {
    "duration": 0,
    "start_time": "2023-08-08T08:04:58.591Z"
   },
   {
    "duration": 5,
    "start_time": "2023-08-08T08:05:14.699Z"
   },
   {
    "duration": 7,
    "start_time": "2023-08-08T08:05:14.707Z"
   },
   {
    "duration": 16,
    "start_time": "2023-08-08T08:05:14.715Z"
   },
   {
    "duration": 74,
    "start_time": "2023-08-08T08:05:14.733Z"
   },
   {
    "duration": 4,
    "start_time": "2023-08-08T08:05:14.809Z"
   },
   {
    "duration": 19,
    "start_time": "2023-08-08T08:05:14.814Z"
   },
   {
    "duration": 3332,
    "start_time": "2023-08-08T08:05:14.835Z"
   },
   {
    "duration": 561,
    "start_time": "2023-08-08T08:05:18.181Z"
   },
   {
    "duration": 6,
    "start_time": "2023-08-08T08:05:18.744Z"
   },
   {
    "duration": 34,
    "start_time": "2023-08-08T08:05:18.753Z"
   },
   {
    "duration": 332,
    "start_time": "2023-08-08T08:05:18.789Z"
   },
   {
    "duration": 3460,
    "start_time": "2023-08-08T08:05:19.124Z"
   },
   {
    "duration": 53047,
    "start_time": "2023-08-08T08:05:22.586Z"
   },
   {
    "duration": 3007,
    "start_time": "2023-08-08T08:06:15.635Z"
   },
   {
    "duration": 586,
    "start_time": "2023-08-08T08:06:18.646Z"
   },
   {
    "duration": 835504,
    "start_time": "2023-08-08T08:06:19.235Z"
   },
   {
    "duration": 563,
    "start_time": "2023-08-08T08:20:14.742Z"
   },
   {
    "duration": 17,
    "start_time": "2023-08-08T08:20:15.308Z"
   },
   {
    "duration": 61,
    "start_time": "2023-08-08T08:20:15.328Z"
   },
   {
    "duration": 4,
    "start_time": "2023-08-08T08:20:15.392Z"
   },
   {
    "duration": 25,
    "start_time": "2023-08-08T08:20:15.398Z"
   },
   {
    "duration": 5373,
    "start_time": "2023-08-08T08:20:15.425Z"
   },
   {
    "duration": 5,
    "start_time": "2023-08-08T08:20:20.800Z"
   },
   {
    "duration": 391878,
    "start_time": "2023-08-08T08:20:20.806Z"
   },
   {
    "duration": 67165,
    "start_time": "2023-08-08T08:26:52.686Z"
   },
   {
    "duration": 200528,
    "start_time": "2023-08-08T08:27:59.853Z"
   },
   {
    "duration": 7197,
    "start_time": "2023-08-08T08:51:40.554Z"
   },
   {
    "duration": 17,
    "start_time": "2023-08-08T08:51:47.754Z"
   },
   {
    "duration": 27,
    "start_time": "2023-08-08T08:51:47.774Z"
   },
   {
    "duration": 744,
    "start_time": "2023-08-08T08:51:47.804Z"
   },
   {
    "duration": 5,
    "start_time": "2023-08-08T08:51:48.550Z"
   },
   {
    "duration": 20,
    "start_time": "2023-08-08T08:51:48.557Z"
   },
   {
    "duration": 3652,
    "start_time": "2023-08-08T08:51:48.583Z"
   },
   {
    "duration": 647,
    "start_time": "2023-08-08T08:51:52.237Z"
   },
   {
    "duration": 11,
    "start_time": "2023-08-08T08:51:52.889Z"
   },
   {
    "duration": 16,
    "start_time": "2023-08-08T08:51:52.904Z"
   },
   {
    "duration": 406,
    "start_time": "2023-08-08T08:51:52.921Z"
   },
   {
    "duration": 3967,
    "start_time": "2023-08-08T08:51:53.329Z"
   },
   {
    "duration": 57869,
    "start_time": "2023-08-08T08:51:57.298Z"
   },
   {
    "duration": 2384,
    "start_time": "2023-08-08T08:52:55.173Z"
   },
   {
    "duration": 601,
    "start_time": "2023-08-08T08:52:57.560Z"
   },
   {
    "duration": 0,
    "start_time": "2023-08-08T09:12:05.295Z"
   },
   {
    "duration": 0,
    "start_time": "2023-08-08T09:12:05.298Z"
   },
   {
    "duration": 0,
    "start_time": "2023-08-08T09:12:05.303Z"
   },
   {
    "duration": 0,
    "start_time": "2023-08-08T09:12:05.305Z"
   },
   {
    "duration": 0,
    "start_time": "2023-08-08T09:12:05.307Z"
   },
   {
    "duration": 0,
    "start_time": "2023-08-08T09:12:05.309Z"
   },
   {
    "duration": 0,
    "start_time": "2023-08-08T09:12:05.309Z"
   },
   {
    "duration": 0,
    "start_time": "2023-08-08T09:12:05.311Z"
   },
   {
    "duration": 0,
    "start_time": "2023-08-08T09:12:05.366Z"
   },
   {
    "duration": 0,
    "start_time": "2023-08-08T09:12:05.368Z"
   },
   {
    "duration": 0,
    "start_time": "2023-08-08T09:12:05.371Z"
   },
   {
    "duration": 0,
    "start_time": "2023-08-08T09:12:05.372Z"
   },
   {
    "duration": 0,
    "start_time": "2023-08-08T09:12:05.373Z"
   },
   {
    "duration": 0,
    "start_time": "2023-08-08T09:12:05.374Z"
   },
   {
    "duration": 0,
    "start_time": "2023-08-08T09:12:05.375Z"
   },
   {
    "duration": 0,
    "start_time": "2023-08-08T09:12:05.376Z"
   },
   {
    "duration": 0,
    "start_time": "2023-08-08T09:12:05.377Z"
   },
   {
    "duration": 0,
    "start_time": "2023-08-08T09:12:05.379Z"
   },
   {
    "duration": 0,
    "start_time": "2023-08-08T09:12:05.380Z"
   },
   {
    "duration": 0,
    "start_time": "2023-08-08T09:12:05.381Z"
   },
   {
    "duration": 0,
    "start_time": "2023-08-08T09:12:05.382Z"
   },
   {
    "duration": 0,
    "start_time": "2023-08-08T09:12:05.384Z"
   },
   {
    "duration": 0,
    "start_time": "2023-08-08T09:12:05.385Z"
   },
   {
    "duration": 0,
    "start_time": "2023-08-08T09:12:05.386Z"
   },
   {
    "duration": 0,
    "start_time": "2023-08-08T09:12:05.388Z"
   },
   {
    "duration": 0,
    "start_time": "2023-08-08T09:12:05.389Z"
   },
   {
    "duration": 0,
    "start_time": "2023-08-08T09:12:05.390Z"
   },
   {
    "duration": 0,
    "start_time": "2023-08-08T09:12:05.391Z"
   },
   {
    "duration": 0,
    "start_time": "2023-08-08T09:12:05.392Z"
   },
   {
    "duration": 0,
    "start_time": "2023-08-08T09:12:05.394Z"
   },
   {
    "duration": 0,
    "start_time": "2023-08-08T09:12:05.395Z"
   },
   {
    "duration": 0,
    "start_time": "2023-08-08T09:12:05.401Z"
   },
   {
    "duration": 9,
    "start_time": "2023-08-08T09:12:11.937Z"
   },
   {
    "duration": 7,
    "start_time": "2023-08-08T09:12:11.948Z"
   },
   {
    "duration": 24,
    "start_time": "2023-08-08T09:12:11.957Z"
   },
   {
    "duration": 99,
    "start_time": "2023-08-08T09:12:11.984Z"
   },
   {
    "duration": 7,
    "start_time": "2023-08-08T09:12:12.088Z"
   },
   {
    "duration": 7,
    "start_time": "2023-08-08T09:12:12.097Z"
   },
   {
    "duration": 916,
    "start_time": "2023-08-08T09:12:12.106Z"
   },
   {
    "duration": 611,
    "start_time": "2023-08-08T09:12:13.025Z"
   },
   {
    "duration": 6,
    "start_time": "2023-08-08T09:12:13.639Z"
   },
   {
    "duration": 144,
    "start_time": "2023-08-08T09:12:13.647Z"
   },
   {
    "duration": 362,
    "start_time": "2023-08-08T09:12:13.793Z"
   },
   {
    "duration": 3785,
    "start_time": "2023-08-08T09:12:14.158Z"
   },
   {
    "duration": 57470,
    "start_time": "2023-08-08T09:12:17.946Z"
   },
   {
    "duration": 2731,
    "start_time": "2023-08-08T09:13:15.420Z"
   },
   {
    "duration": 652,
    "start_time": "2023-08-08T09:13:18.153Z"
   },
   {
    "duration": 923725,
    "start_time": "2023-08-08T09:13:18.807Z"
   },
   {
    "duration": 508,
    "start_time": "2023-08-08T09:28:42.535Z"
   },
   {
    "duration": 15,
    "start_time": "2023-08-08T09:28:43.045Z"
   },
   {
    "duration": 47,
    "start_time": "2023-08-08T09:28:43.067Z"
   },
   {
    "duration": 5,
    "start_time": "2023-08-08T09:28:43.116Z"
   },
   {
    "duration": 84,
    "start_time": "2023-08-08T09:28:43.123Z"
   },
   {
    "duration": 5674,
    "start_time": "2023-08-08T09:28:43.209Z"
   },
   {
    "duration": 5,
    "start_time": "2023-08-08T09:28:48.885Z"
   },
   {
    "duration": 420591,
    "start_time": "2023-08-08T09:28:48.892Z"
   },
   {
    "duration": 64432,
    "start_time": "2023-08-08T09:35:49.485Z"
   },
   {
    "duration": 193521,
    "start_time": "2023-08-08T09:36:53.920Z"
   },
   {
    "duration": 2163699,
    "start_time": "2023-08-08T09:40:07.443Z"
   },
   {
    "duration": 5,
    "start_time": "2023-08-08T10:16:11.144Z"
   },
   {
    "duration": 281,
    "start_time": "2023-08-08T10:16:11.151Z"
   },
   {
    "duration": 3,
    "start_time": "2023-08-08T10:16:11.435Z"
   },
   {
    "duration": 11,
    "start_time": "2023-08-08T10:16:11.440Z"
   },
   {
    "duration": 81,
    "start_time": "2023-08-08T10:16:11.453Z"
   },
   {
    "duration": 3,
    "start_time": "2023-08-08T16:08:58.797Z"
   },
   {
    "duration": 2398,
    "start_time": "2023-08-08T16:09:20.952Z"
   },
   {
    "duration": 4,
    "start_time": "2023-08-08T16:11:20.116Z"
   },
   {
    "duration": 2119,
    "start_time": "2023-08-08T16:11:42.052Z"
   },
   {
    "duration": 8375,
    "start_time": "2023-08-09T07:19:57.291Z"
   },
   {
    "duration": 8,
    "start_time": "2023-08-09T07:20:38.606Z"
   },
   {
    "duration": 3,
    "start_time": "2023-08-09T07:20:40.020Z"
   },
   {
    "duration": 497,
    "start_time": "2023-08-09T07:20:40.411Z"
   },
   {
    "duration": 3,
    "start_time": "2023-08-09T07:20:40.910Z"
   },
   {
    "duration": 2,
    "start_time": "2023-08-09T07:20:41.596Z"
   },
   {
    "duration": 2217,
    "start_time": "2023-08-09T07:20:42.605Z"
   },
   {
    "duration": 494,
    "start_time": "2023-08-09T07:20:48.613Z"
   },
   {
    "duration": 6,
    "start_time": "2023-08-09T07:22:17.054Z"
   },
   {
    "duration": 2,
    "start_time": "2023-08-09T07:22:18.327Z"
   },
   {
    "duration": 54,
    "start_time": "2023-08-09T07:22:19.782Z"
   },
   {
    "duration": 3,
    "start_time": "2023-08-09T07:22:20.842Z"
   },
   {
    "duration": 3,
    "start_time": "2023-08-09T07:22:21.591Z"
   },
   {
    "duration": 799,
    "start_time": "2023-08-09T07:22:22.829Z"
   },
   {
    "duration": 475,
    "start_time": "2023-08-09T07:22:26.398Z"
   },
   {
    "duration": 7,
    "start_time": "2023-08-09T07:22:42.978Z"
   },
   {
    "duration": 115,
    "start_time": "2023-08-09T07:30:10.018Z"
   },
   {
    "duration": 410,
    "start_time": "2023-08-09T07:39:05.642Z"
   },
   {
    "duration": 21,
    "start_time": "2023-08-09T07:39:06.108Z"
   },
   {
    "duration": 778,
    "start_time": "2023-08-09T07:39:24.219Z"
   },
   {
    "duration": 479,
    "start_time": "2023-08-09T07:39:27.368Z"
   },
   {
    "duration": 6,
    "start_time": "2023-08-09T07:39:28.023Z"
   },
   {
    "duration": 113,
    "start_time": "2023-08-09T07:39:29.245Z"
   },
   {
    "duration": 18,
    "start_time": "2023-08-09T07:39:33.870Z"
   },
   {
    "duration": 4,
    "start_time": "2023-08-09T07:39:45.093Z"
   },
   {
    "duration": 5,
    "start_time": "2023-08-09T07:39:46.656Z"
   },
   {
    "duration": 3,
    "start_time": "2023-08-09T07:39:47.837Z"
   },
   {
    "duration": 53,
    "start_time": "2023-08-09T07:39:48.793Z"
   },
   {
    "duration": 3,
    "start_time": "2023-08-09T07:39:49.292Z"
   },
   {
    "duration": 3,
    "start_time": "2023-08-09T07:39:49.790Z"
   },
   {
    "duration": 767,
    "start_time": "2023-08-09T07:39:50.851Z"
   },
   {
    "duration": 473,
    "start_time": "2023-08-09T07:39:52.374Z"
   },
   {
    "duration": 6,
    "start_time": "2023-08-09T07:39:53.017Z"
   },
   {
    "duration": 106,
    "start_time": "2023-08-09T07:39:53.625Z"
   },
   {
    "duration": 19,
    "start_time": "2023-08-09T07:39:57.857Z"
   },
   {
    "duration": 18,
    "start_time": "2023-08-09T07:41:36.792Z"
   },
   {
    "duration": 19,
    "start_time": "2023-08-09T07:43:15.142Z"
   },
   {
    "duration": 765,
    "start_time": "2023-08-09T07:43:23.433Z"
   },
   {
    "duration": 498,
    "start_time": "2023-08-09T07:43:29.532Z"
   },
   {
    "duration": 6,
    "start_time": "2023-08-09T07:43:37.982Z"
   },
   {
    "duration": 106,
    "start_time": "2023-08-09T07:43:41.037Z"
   },
   {
    "duration": 10,
    "start_time": "2023-08-09T07:43:52.420Z"
   },
   {
    "duration": 214,
    "start_time": "2023-08-09T07:43:54.329Z"
   },
   {
    "duration": 2966,
    "start_time": "2023-08-09T07:43:57.956Z"
   },
   {
    "duration": 45639,
    "start_time": "2023-08-09T07:44:02.124Z"
   },
   {
    "duration": 1771,
    "start_time": "2023-08-09T07:44:47.766Z"
   },
   {
    "duration": 655,
    "start_time": "2023-08-09T07:44:49.539Z"
   },
   {
    "duration": 589830,
    "start_time": "2023-08-09T07:44:50.196Z"
   },
   {
    "duration": 316,
    "start_time": "2023-08-09T07:54:40.027Z"
   },
   {
    "duration": 3,
    "start_time": "2023-08-09T08:05:57.711Z"
   },
   {
    "duration": 62,
    "start_time": "2023-08-09T08:05:58.611Z"
   },
   {
    "duration": 4,
    "start_time": "2023-08-09T08:06:40.940Z"
   },
   {
    "duration": 2,
    "start_time": "2023-08-09T08:06:45.771Z"
   },
   {
    "duration": 4417,
    "start_time": "2023-08-09T08:07:03.834Z"
   },
   {
    "duration": 3,
    "start_time": "2023-08-09T08:07:18.911Z"
   },
   {
    "duration": 6,
    "start_time": "2023-08-09T08:13:41.201Z"
   },
   {
    "duration": 3,
    "start_time": "2023-08-09T08:26:56.729Z"
   },
   {
    "duration": 97,
    "start_time": "2023-08-09T08:28:00.270Z"
   },
   {
    "duration": 4,
    "start_time": "2023-08-09T08:28:02.116Z"
   },
   {
    "duration": 2,
    "start_time": "2023-08-09T08:28:04.941Z"
   },
   {
    "duration": 2,
    "start_time": "2023-08-09T08:28:05.180Z"
   },
   {
    "duration": 3,
    "start_time": "2023-08-09T08:28:08.845Z"
   },
   {
    "duration": 3,
    "start_time": "2023-08-09T08:28:19.183Z"
   },
   {
    "duration": 4,
    "start_time": "2023-08-09T08:31:57.093Z"
   },
   {
    "duration": 3,
    "start_time": "2023-08-09T08:32:29.787Z"
   },
   {
    "duration": 41,
    "start_time": "2023-08-09T08:32:47.868Z"
   },
   {
    "duration": 3,
    "start_time": "2023-08-09T08:38:25.943Z"
   },
   {
    "duration": 57,
    "start_time": "2023-08-09T08:38:26.431Z"
   },
   {
    "duration": 4,
    "start_time": "2023-08-09T08:38:27.431Z"
   },
   {
    "duration": 3,
    "start_time": "2023-08-09T08:38:27.754Z"
   },
   {
    "duration": 2,
    "start_time": "2023-08-09T08:38:28.389Z"
   },
   {
    "duration": 3,
    "start_time": "2023-08-09T08:38:29.476Z"
   },
   {
    "duration": 7,
    "start_time": "2023-08-09T08:38:30.622Z"
   },
   {
    "duration": 7,
    "start_time": "2023-08-09T08:38:32.422Z"
   },
   {
    "duration": 11,
    "start_time": "2023-08-09T08:38:33.418Z"
   },
   {
    "duration": 33,
    "start_time": "2023-08-09T08:38:34.434Z"
   },
   {
    "duration": 5,
    "start_time": "2023-08-09T08:42:50.834Z"
   },
   {
    "duration": 235,
    "start_time": "2023-08-09T08:42:56.213Z"
   },
   {
    "duration": 2,
    "start_time": "2023-08-09T08:43:15.266Z"
   },
   {
    "duration": 57,
    "start_time": "2023-08-09T08:43:18.037Z"
   },
   {
    "duration": 4,
    "start_time": "2023-08-09T08:43:20.182Z"
   },
   {
    "duration": 2,
    "start_time": "2023-08-09T08:43:27.758Z"
   },
   {
    "duration": 2,
    "start_time": "2023-08-09T08:43:28.347Z"
   },
   {
    "duration": 4,
    "start_time": "2023-08-09T08:43:29.534Z"
   },
   {
    "duration": 2,
    "start_time": "2023-08-09T08:43:31.394Z"
   },
   {
    "duration": 6,
    "start_time": "2023-08-09T08:43:35.933Z"
   },
   {
    "duration": 215,
    "start_time": "2023-08-09T08:43:36.830Z"
   },
   {
    "duration": 3,
    "start_time": "2023-08-09T08:47:48.773Z"
   },
   {
    "duration": 3,
    "start_time": "2023-08-09T08:47:49.940Z"
   },
   {
    "duration": 5,
    "start_time": "2023-08-09T08:48:08.171Z"
   },
   {
    "duration": 204,
    "start_time": "2023-08-09T08:48:09.142Z"
   },
   {
    "duration": 3,
    "start_time": "2023-08-09T08:50:59.589Z"
   },
   {
    "duration": 64,
    "start_time": "2023-08-09T08:51:00.554Z"
   },
   {
    "duration": 4,
    "start_time": "2023-08-09T08:51:02.400Z"
   },
   {
    "duration": 2,
    "start_time": "2023-08-09T08:51:03.264Z"
   },
   {
    "duration": 2,
    "start_time": "2023-08-09T08:51:04.064Z"
   },
   {
    "duration": 3,
    "start_time": "2023-08-09T08:51:15.147Z"
   },
   {
    "duration": 3,
    "start_time": "2023-08-09T08:51:17.631Z"
   },
   {
    "duration": 3,
    "start_time": "2023-08-09T08:51:25.420Z"
   },
   {
    "duration": 199,
    "start_time": "2023-08-09T08:51:26.446Z"
   },
   {
    "duration": 3,
    "start_time": "2023-08-09T08:51:40.567Z"
   },
   {
    "duration": 58,
    "start_time": "2023-08-09T08:51:41.406Z"
   },
   {
    "duration": 4,
    "start_time": "2023-08-09T08:51:42.921Z"
   },
   {
    "duration": 2,
    "start_time": "2023-08-09T08:51:43.841Z"
   },
   {
    "duration": 2,
    "start_time": "2023-08-09T08:51:44.415Z"
   },
   {
    "duration": 3,
    "start_time": "2023-08-09T08:51:45.707Z"
   },
   {
    "duration": 2,
    "start_time": "2023-08-09T08:51:50.049Z"
   },
   {
    "duration": 3,
    "start_time": "2023-08-09T08:51:50.616Z"
   },
   {
    "duration": 241,
    "start_time": "2023-08-09T08:51:53.353Z"
   },
   {
    "duration": 2,
    "start_time": "2023-08-09T08:54:22.954Z"
   },
   {
    "duration": 77,
    "start_time": "2023-08-09T08:54:23.931Z"
   },
   {
    "duration": 5,
    "start_time": "2023-08-09T08:54:25.315Z"
   },
   {
    "duration": 3,
    "start_time": "2023-08-09T08:54:25.919Z"
   },
   {
    "duration": 2,
    "start_time": "2023-08-09T08:54:26.536Z"
   },
   {
    "duration": 4,
    "start_time": "2023-08-09T08:54:27.615Z"
   },
   {
    "duration": 3,
    "start_time": "2023-08-09T08:54:29.273Z"
   },
   {
    "duration": 2,
    "start_time": "2023-08-09T08:54:29.837Z"
   },
   {
    "duration": 290,
    "start_time": "2023-08-09T08:54:30.549Z"
   },
   {
    "duration": 3,
    "start_time": "2023-08-09T08:59:53.658Z"
   },
   {
    "duration": 58,
    "start_time": "2023-08-09T08:59:54.615Z"
   },
   {
    "duration": 4,
    "start_time": "2023-08-09T08:59:56.329Z"
   },
   {
    "duration": 2,
    "start_time": "2023-08-09T08:59:57.333Z"
   },
   {
    "duration": 2,
    "start_time": "2023-08-09T08:59:58.327Z"
   },
   {
    "duration": 4,
    "start_time": "2023-08-09T08:59:59.897Z"
   },
   {
    "duration": 3,
    "start_time": "2023-08-09T09:00:01.959Z"
   },
   {
    "duration": 3,
    "start_time": "2023-08-09T09:00:07.661Z"
   },
   {
    "duration": 12,
    "start_time": "2023-08-09T09:00:08.997Z"
   },
   {
    "duration": 0,
    "start_time": "2023-08-09T09:29:23.946Z"
   },
   {
    "duration": 1,
    "start_time": "2023-08-09T09:29:23.956Z"
   },
   {
    "duration": 6,
    "start_time": "2023-08-09T09:29:39.243Z"
   },
   {
    "duration": 7,
    "start_time": "2023-08-09T09:29:45.062Z"
   },
   {
    "duration": 3,
    "start_time": "2023-08-09T09:29:48.264Z"
   },
   {
    "duration": 62,
    "start_time": "2023-08-09T09:29:48.811Z"
   },
   {
    "duration": 4,
    "start_time": "2023-08-09T09:29:49.528Z"
   },
   {
    "duration": 3,
    "start_time": "2023-08-09T09:29:50.108Z"
   },
   {
    "duration": 806,
    "start_time": "2023-08-09T09:29:51.230Z"
   },
   {
    "duration": 515,
    "start_time": "2023-08-09T09:29:53.019Z"
   },
   {
    "duration": 10,
    "start_time": "2023-08-09T09:29:53.536Z"
   },
   {
    "duration": 134,
    "start_time": "2023-08-09T09:29:53.629Z"
   },
   {
    "duration": 14,
    "start_time": "2023-08-09T09:29:55.271Z"
   },
   {
    "duration": 219,
    "start_time": "2023-08-09T09:29:55.559Z"
   },
   {
    "duration": 3803,
    "start_time": "2023-08-09T09:29:55.864Z"
   },
   {
    "duration": 52348,
    "start_time": "2023-08-09T09:29:59.669Z"
   },
   {
    "duration": 2145,
    "start_time": "2023-08-09T09:30:52.023Z"
   },
   {
    "duration": 483,
    "start_time": "2023-08-09T09:30:54.171Z"
   },
   {
    "duration": 639479,
    "start_time": "2023-08-09T09:30:54.655Z"
   },
   {
    "duration": 360,
    "start_time": "2023-08-09T09:41:34.136Z"
   },
   {
    "duration": 10,
    "start_time": "2023-08-09T09:41:34.500Z"
   },
   {
    "duration": 61,
    "start_time": "2023-08-09T09:41:34.512Z"
   },
   {
    "duration": 5,
    "start_time": "2023-08-09T09:41:34.575Z"
   },
   {
    "duration": 3,
    "start_time": "2023-08-09T09:41:34.583Z"
   },
   {
    "duration": 20,
    "start_time": "2023-08-09T09:41:34.587Z"
   },
   {
    "duration": 7,
    "start_time": "2023-08-09T09:41:34.609Z"
   },
   {
    "duration": 4,
    "start_time": "2023-08-09T09:41:34.618Z"
   },
   {
    "duration": 6,
    "start_time": "2023-08-09T09:41:34.626Z"
   },
   {
    "duration": 6,
    "start_time": "2023-08-09T09:41:34.633Z"
   },
   {
    "duration": 5158,
    "start_time": "2023-08-09T11:54:26.616Z"
   },
   {
    "duration": 9,
    "start_time": "2023-08-09T11:54:31.776Z"
   },
   {
    "duration": 54,
    "start_time": "2023-08-09T11:54:31.787Z"
   },
   {
    "duration": 403,
    "start_time": "2023-08-09T11:54:31.843Z"
   },
   {
    "duration": 4,
    "start_time": "2023-08-09T11:54:32.248Z"
   },
   {
    "duration": 25,
    "start_time": "2023-08-09T11:54:32.253Z"
   },
   {
    "duration": 864,
    "start_time": "2023-08-09T11:54:32.280Z"
   },
   {
    "duration": 510,
    "start_time": "2023-08-09T11:54:33.145Z"
   },
   {
    "duration": 6,
    "start_time": "2023-08-09T11:54:33.656Z"
   },
   {
    "duration": 141,
    "start_time": "2023-08-09T11:54:33.664Z"
   },
   {
    "duration": 12,
    "start_time": "2023-08-09T11:54:33.808Z"
   },
   {
    "duration": 253,
    "start_time": "2023-08-09T11:54:33.822Z"
   },
   {
    "duration": 3159,
    "start_time": "2023-08-09T11:54:34.077Z"
   },
   {
    "duration": 47402,
    "start_time": "2023-08-09T11:54:37.238Z"
   },
   {
    "duration": 1954,
    "start_time": "2023-08-09T11:55:24.642Z"
   },
   {
    "duration": 465,
    "start_time": "2023-08-09T11:55:26.597Z"
   },
   {
    "duration": 617668,
    "start_time": "2023-08-09T11:55:27.064Z"
   },
   {
    "duration": 341,
    "start_time": "2023-08-09T12:05:44.734Z"
   },
   {
    "duration": 3,
    "start_time": "2023-08-09T12:05:45.077Z"
   },
   {
    "duration": 99,
    "start_time": "2023-08-09T12:05:45.081Z"
   },
   {
    "duration": 4,
    "start_time": "2023-08-09T12:05:45.181Z"
   },
   {
    "duration": 10,
    "start_time": "2023-08-09T12:05:45.187Z"
   },
   {
    "duration": 5,
    "start_time": "2023-08-09T12:05:45.198Z"
   },
   {
    "duration": 13,
    "start_time": "2023-08-09T12:05:45.209Z"
   },
   {
    "duration": 5,
    "start_time": "2023-08-09T12:05:45.224Z"
   },
   {
    "duration": 8,
    "start_time": "2023-08-09T12:05:45.230Z"
   },
   {
    "duration": 6,
    "start_time": "2023-08-09T12:05:45.239Z"
   },
   {
    "duration": 240,
    "start_time": "2023-08-09T12:05:45.248Z"
   },
   {
    "duration": 29905,
    "start_time": "2023-08-09T12:53:59.042Z"
   },
   {
    "duration": 7,
    "start_time": "2023-08-09T12:54:28.949Z"
   },
   {
    "duration": 8,
    "start_time": "2023-08-09T12:54:28.958Z"
   },
   {
    "duration": 635,
    "start_time": "2023-08-09T12:54:28.968Z"
   },
   {
    "duration": 3,
    "start_time": "2023-08-09T12:54:29.605Z"
   },
   {
    "duration": 40,
    "start_time": "2023-08-09T12:54:29.610Z"
   },
   {
    "duration": 2788,
    "start_time": "2023-08-09T12:54:29.651Z"
   },
   {
    "duration": 523,
    "start_time": "2023-08-09T12:54:32.440Z"
   },
   {
    "duration": 5,
    "start_time": "2023-08-09T12:54:32.965Z"
   },
   {
    "duration": 124,
    "start_time": "2023-08-09T12:54:32.973Z"
   },
   {
    "duration": 14,
    "start_time": "2023-08-09T12:54:33.113Z"
   },
   {
    "duration": 246,
    "start_time": "2023-08-09T12:54:33.129Z"
   },
   {
    "duration": 3260,
    "start_time": "2023-08-09T12:54:33.377Z"
   },
   {
    "duration": 51196,
    "start_time": "2023-08-09T12:54:36.638Z"
   },
   {
    "duration": 2009,
    "start_time": "2023-08-09T12:55:27.836Z"
   },
   {
    "duration": 954,
    "start_time": "2023-08-09T12:55:29.847Z"
   },
   {
    "duration": 642162,
    "start_time": "2023-08-09T12:55:30.803Z"
   },
   {
    "duration": 371,
    "start_time": "2023-08-09T13:06:12.967Z"
   },
   {
    "duration": 3,
    "start_time": "2023-08-09T13:06:13.340Z"
   },
   {
    "duration": 77,
    "start_time": "2023-08-09T13:06:13.344Z"
   },
   {
    "duration": 5,
    "start_time": "2023-08-09T13:06:13.423Z"
   },
   {
    "duration": 22,
    "start_time": "2023-08-09T13:06:13.430Z"
   },
   {
    "duration": 11,
    "start_time": "2023-08-09T13:06:13.453Z"
   },
   {
    "duration": 6,
    "start_time": "2023-08-09T13:06:13.465Z"
   },
   {
    "duration": 7,
    "start_time": "2023-08-09T13:06:13.473Z"
   },
   {
    "duration": 51,
    "start_time": "2023-08-09T13:06:13.482Z"
   },
   {
    "duration": 6,
    "start_time": "2023-08-09T13:06:13.534Z"
   },
   {
    "duration": 245,
    "start_time": "2023-08-09T13:06:13.543Z"
   },
   {
    "duration": 5402,
    "start_time": "2023-08-09T14:12:42.948Z"
   },
   {
    "duration": 8,
    "start_time": "2023-08-09T14:12:48.352Z"
   },
   {
    "duration": 81,
    "start_time": "2023-08-09T14:12:48.361Z"
   },
   {
    "duration": 418,
    "start_time": "2023-08-09T14:12:48.444Z"
   },
   {
    "duration": 3,
    "start_time": "2023-08-09T14:12:48.864Z"
   },
   {
    "duration": 16,
    "start_time": "2023-08-09T14:12:48.868Z"
   },
   {
    "duration": 949,
    "start_time": "2023-08-09T14:12:48.886Z"
   },
   {
    "duration": 539,
    "start_time": "2023-08-09T14:12:49.842Z"
   },
   {
    "duration": 26,
    "start_time": "2023-08-09T14:12:50.383Z"
   },
   {
    "duration": 114,
    "start_time": "2023-08-09T14:12:50.423Z"
   },
   {
    "duration": 11,
    "start_time": "2023-08-09T14:12:50.539Z"
   },
   {
    "duration": 282,
    "start_time": "2023-08-09T14:12:50.551Z"
   },
   {
    "duration": 3218,
    "start_time": "2023-08-09T14:12:50.835Z"
   },
   {
    "duration": 52067,
    "start_time": "2023-08-09T14:12:54.054Z"
   },
   {
    "duration": 2001,
    "start_time": "2023-08-09T14:13:46.123Z"
   },
   {
    "duration": 507,
    "start_time": "2023-08-09T14:13:48.132Z"
   },
   {
    "duration": 79613,
    "start_time": "2023-08-09T14:13:48.641Z"
   },
   {
    "duration": 214,
    "start_time": "2023-08-09T14:15:08.256Z"
   },
   {
    "duration": 3,
    "start_time": "2023-08-09T14:15:08.471Z"
   },
   {
    "duration": 81,
    "start_time": "2023-08-09T14:15:08.475Z"
   },
   {
    "duration": 3,
    "start_time": "2023-08-09T14:15:08.558Z"
   },
   {
    "duration": 17,
    "start_time": "2023-08-09T14:15:08.562Z"
   },
   {
    "duration": 16,
    "start_time": "2023-08-09T14:15:08.580Z"
   },
   {
    "duration": 31,
    "start_time": "2023-08-09T14:15:08.597Z"
   },
   {
    "duration": 33,
    "start_time": "2023-08-09T14:15:08.630Z"
   },
   {
    "duration": 27,
    "start_time": "2023-08-09T14:15:08.664Z"
   },
   {
    "duration": 96,
    "start_time": "2023-08-09T14:15:08.693Z"
   },
   {
    "duration": 51,
    "start_time": "2023-08-09T14:15:08.792Z"
   },
   {
    "duration": 6736,
    "start_time": "2023-08-10T07:01:28.856Z"
   },
   {
    "duration": 8,
    "start_time": "2023-08-10T07:01:35.593Z"
   },
   {
    "duration": 17,
    "start_time": "2023-08-10T07:01:35.602Z"
   },
   {
    "duration": 479,
    "start_time": "2023-08-10T07:01:35.621Z"
   },
   {
    "duration": 4,
    "start_time": "2023-08-10T07:01:36.101Z"
   },
   {
    "duration": 4,
    "start_time": "2023-08-10T07:01:36.106Z"
   },
   {
    "duration": 2183,
    "start_time": "2023-08-10T07:01:36.112Z"
   },
   {
    "duration": 447,
    "start_time": "2023-08-10T07:01:38.296Z"
   },
   {
    "duration": 7,
    "start_time": "2023-08-10T07:01:38.746Z"
   },
   {
    "duration": 109,
    "start_time": "2023-08-10T07:01:38.755Z"
   },
   {
    "duration": 12,
    "start_time": "2023-08-10T07:01:38.866Z"
   },
   {
    "duration": 224,
    "start_time": "2023-08-10T07:01:38.880Z"
   },
   {
    "duration": 2899,
    "start_time": "2023-08-10T07:01:39.105Z"
   },
   {
    "duration": 45234,
    "start_time": "2023-08-10T07:01:42.005Z"
   },
   {
    "duration": 3,
    "start_time": "2023-08-10T07:02:27.241Z"
   },
   {
    "duration": 619,
    "start_time": "2023-08-10T07:02:27.246Z"
   },
   {
    "duration": 853706,
    "start_time": "2023-08-10T07:02:27.867Z"
   },
   {
    "duration": 477,
    "start_time": "2023-08-10T07:16:41.575Z"
   },
   {
    "duration": 298320,
    "start_time": "2023-08-10T07:16:42.259Z"
   },
   {
    "duration": 48,
    "start_time": "2023-08-10T07:21:40.580Z"
   },
   {
    "duration": 0,
    "start_time": "2023-08-10T07:21:40.630Z"
   },
   {
    "duration": 0,
    "start_time": "2023-08-10T07:21:40.639Z"
   },
   {
    "duration": 0,
    "start_time": "2023-08-10T07:21:40.640Z"
   },
   {
    "duration": 0,
    "start_time": "2023-08-10T07:21:40.641Z"
   },
   {
    "duration": 0,
    "start_time": "2023-08-10T07:21:40.641Z"
   },
   {
    "duration": 0,
    "start_time": "2023-08-10T07:21:40.642Z"
   },
   {
    "duration": 0,
    "start_time": "2023-08-10T07:21:40.643Z"
   },
   {
    "duration": 0,
    "start_time": "2023-08-10T07:21:40.644Z"
   },
   {
    "duration": 0,
    "start_time": "2023-08-10T07:21:40.645Z"
   },
   {
    "duration": 0,
    "start_time": "2023-08-10T07:21:40.646Z"
   },
   {
    "duration": 0,
    "start_time": "2023-08-10T07:21:40.647Z"
   },
   {
    "duration": 0,
    "start_time": "2023-08-10T07:21:40.648Z"
   },
   {
    "duration": 0,
    "start_time": "2023-08-10T07:21:40.649Z"
   },
   {
    "duration": 0,
    "start_time": "2023-08-10T07:21:40.650Z"
   },
   {
    "duration": 0,
    "start_time": "2023-08-10T07:21:40.651Z"
   },
   {
    "duration": 0,
    "start_time": "2023-08-10T07:21:40.651Z"
   },
   {
    "duration": 0,
    "start_time": "2023-08-10T07:21:40.652Z"
   },
   {
    "duration": 0,
    "start_time": "2023-08-10T07:21:40.655Z"
   },
   {
    "duration": 0,
    "start_time": "2023-08-10T07:21:40.655Z"
   },
   {
    "duration": 0,
    "start_time": "2023-08-10T07:21:40.656Z"
   },
   {
    "duration": 0,
    "start_time": "2023-08-10T07:21:40.657Z"
   },
   {
    "duration": 0,
    "start_time": "2023-08-10T07:21:40.658Z"
   },
   {
    "duration": 5324,
    "start_time": "2023-08-10T07:22:40.756Z"
   },
   {
    "duration": 8,
    "start_time": "2023-08-10T07:22:46.081Z"
   },
   {
    "duration": 20,
    "start_time": "2023-08-10T07:22:46.091Z"
   },
   {
    "duration": 409,
    "start_time": "2023-08-10T07:22:46.112Z"
   },
   {
    "duration": 3,
    "start_time": "2023-08-10T07:22:46.523Z"
   },
   {
    "duration": 35,
    "start_time": "2023-08-10T07:22:46.527Z"
   },
   {
    "duration": 843,
    "start_time": "2023-08-10T07:22:46.563Z"
   },
   {
    "duration": 557,
    "start_time": "2023-08-10T07:22:47.407Z"
   },
   {
    "duration": 7,
    "start_time": "2023-08-10T07:22:47.967Z"
   },
   {
    "duration": 139,
    "start_time": "2023-08-10T07:22:47.976Z"
   },
   {
    "duration": 9,
    "start_time": "2023-08-10T07:22:48.117Z"
   },
   {
    "duration": 287,
    "start_time": "2023-08-10T07:22:48.127Z"
   },
   {
    "duration": 3270,
    "start_time": "2023-08-10T07:22:48.416Z"
   },
   {
    "duration": 52931,
    "start_time": "2023-08-10T07:22:51.688Z"
   },
   {
    "duration": 3,
    "start_time": "2023-08-10T07:23:44.622Z"
   },
   {
    "duration": 717,
    "start_time": "2023-08-10T07:23:44.627Z"
   },
   {
    "duration": 41,
    "start_time": "2023-08-10T07:51:51.894Z"
   },
   {
    "duration": 33,
    "start_time": "2023-08-10T07:51:51.936Z"
   },
   {
    "duration": 27,
    "start_time": "2023-08-10T07:51:51.971Z"
   },
   {
    "duration": 77,
    "start_time": "2023-08-10T07:51:52.000Z"
   },
   {
    "duration": 3,
    "start_time": "2023-08-10T07:51:52.079Z"
   },
   {
    "duration": 20,
    "start_time": "2023-08-10T07:51:52.084Z"
   },
   {
    "duration": 807,
    "start_time": "2023-08-10T07:51:52.106Z"
   },
   {
    "duration": 495,
    "start_time": "2023-08-10T07:51:52.914Z"
   },
   {
    "duration": 5,
    "start_time": "2023-08-10T07:51:53.410Z"
   },
   {
    "duration": 112,
    "start_time": "2023-08-10T07:51:53.416Z"
   },
   {
    "duration": 31,
    "start_time": "2023-08-10T07:51:53.529Z"
   },
   {
    "duration": 207,
    "start_time": "2023-08-10T07:51:53.569Z"
   },
   {
    "duration": 3274,
    "start_time": "2023-08-10T07:51:53.778Z"
   },
   {
    "duration": 50520,
    "start_time": "2023-08-10T07:51:57.053Z"
   },
   {
    "duration": 3,
    "start_time": "2023-08-10T07:52:47.575Z"
   },
   {
    "duration": 1143,
    "start_time": "2023-08-10T07:52:47.580Z"
   },
   {
    "duration": 6610,
    "start_time": "2023-08-10T07:54:53.387Z"
   },
   {
    "duration": 13,
    "start_time": "2023-08-10T07:54:59.999Z"
   },
   {
    "duration": 82,
    "start_time": "2023-08-10T07:55:00.014Z"
   },
   {
    "duration": 434,
    "start_time": "2023-08-10T07:55:00.098Z"
   },
   {
    "duration": 23,
    "start_time": "2023-08-10T07:55:00.533Z"
   },
   {
    "duration": 44,
    "start_time": "2023-08-10T07:55:00.561Z"
   },
   {
    "duration": 1014,
    "start_time": "2023-08-10T07:55:00.607Z"
   },
   {
    "duration": 587,
    "start_time": "2023-08-10T07:55:01.623Z"
   },
   {
    "duration": 7,
    "start_time": "2023-08-10T07:55:02.211Z"
   },
   {
    "duration": 190,
    "start_time": "2023-08-10T07:55:02.220Z"
   },
   {
    "duration": 12,
    "start_time": "2023-08-10T07:55:02.412Z"
   },
   {
    "duration": 386,
    "start_time": "2023-08-10T07:55:02.426Z"
   },
   {
    "duration": 3674,
    "start_time": "2023-08-10T07:55:02.814Z"
   },
   {
    "duration": 56940,
    "start_time": "2023-08-10T07:55:06.490Z"
   },
   {
    "duration": 18,
    "start_time": "2023-08-10T07:56:03.432Z"
   },
   {
    "duration": 734,
    "start_time": "2023-08-10T07:56:03.451Z"
   },
   {
    "duration": 903173,
    "start_time": "2023-08-10T07:56:04.187Z"
   },
   {
    "duration": 503,
    "start_time": "2023-08-10T08:11:07.361Z"
   },
   {
    "duration": 5,
    "start_time": "2023-08-10T08:11:07.866Z"
   },
   {
    "duration": 104,
    "start_time": "2023-08-10T08:11:07.872Z"
   },
   {
    "duration": 107,
    "start_time": "2023-08-10T08:11:07.981Z"
   },
   {
    "duration": 11,
    "start_time": "2023-08-10T08:11:08.090Z"
   },
   {
    "duration": 17,
    "start_time": "2023-08-10T08:11:08.103Z"
   },
   {
    "duration": 15,
    "start_time": "2023-08-10T08:11:08.121Z"
   },
   {
    "duration": 52,
    "start_time": "2023-08-10T08:11:08.140Z"
   },
   {
    "duration": 12,
    "start_time": "2023-08-10T08:11:08.194Z"
   },
   {
    "duration": 6,
    "start_time": "2023-08-10T08:11:08.208Z"
   },
   {
    "duration": 14,
    "start_time": "2023-08-10T08:11:08.217Z"
   },
   {
    "duration": 47,
    "start_time": "2023-08-10T08:11:08.232Z"
   },
   {
    "duration": 812847,
    "start_time": "2023-08-10T08:11:08.281Z"
   },
   {
    "duration": 10,
    "start_time": "2023-08-10T08:24:41.130Z"
   },
   {
    "duration": 62,
    "start_time": "2023-08-10T08:24:41.141Z"
   },
   {
    "duration": 555,
    "start_time": "2023-08-10T08:24:41.205Z"
   },
   {
    "duration": 4,
    "start_time": "2023-08-10T08:24:41.769Z"
   },
   {
    "duration": 11,
    "start_time": "2023-08-10T08:24:41.775Z"
   },
   {
    "duration": 26,
    "start_time": "2023-08-10T08:24:41.788Z"
   },
   {
    "duration": 57,
    "start_time": "2023-08-10T08:24:41.815Z"
   },
   {
    "duration": 31,
    "start_time": "2023-08-10T08:24:41.874Z"
   },
   {
    "duration": 70,
    "start_time": "2023-08-10T08:24:41.907Z"
   },
   {
    "duration": 33,
    "start_time": "2023-08-10T08:24:41.979Z"
   },
   {
    "duration": 8,
    "start_time": "2023-08-10T08:24:42.013Z"
   },
   {
    "duration": 12,
    "start_time": "2023-08-10T08:24:42.022Z"
   },
   {
    "duration": 65,
    "start_time": "2023-08-10T08:24:42.035Z"
   },
   {
    "duration": 21,
    "start_time": "2023-08-10T08:24:42.102Z"
   },
   {
    "duration": 57,
    "start_time": "2023-08-10T08:24:42.125Z"
   },
   {
    "duration": 26,
    "start_time": "2023-08-10T08:24:42.184Z"
   },
   {
    "duration": 14,
    "start_time": "2023-08-10T08:24:42.211Z"
   },
   {
    "duration": 46,
    "start_time": "2023-08-10T08:24:42.226Z"
   },
   {
    "duration": 29,
    "start_time": "2023-08-10T08:24:42.273Z"
   },
   {
    "duration": 26,
    "start_time": "2023-08-10T08:24:42.303Z"
   },
   {
    "duration": 49,
    "start_time": "2023-08-10T08:24:42.331Z"
   },
   {
    "duration": 32,
    "start_time": "2023-08-10T08:24:42.382Z"
   },
   {
    "duration": 63,
    "start_time": "2023-08-10T08:24:42.415Z"
   },
   {
    "duration": 6083,
    "start_time": "2023-08-11T08:05:31.116Z"
   },
   {
    "duration": 9,
    "start_time": "2023-08-11T08:05:37.201Z"
   },
   {
    "duration": 47,
    "start_time": "2023-08-11T08:05:37.211Z"
   },
   {
    "duration": 517,
    "start_time": "2023-08-11T08:05:37.261Z"
   },
   {
    "duration": 4,
    "start_time": "2023-08-11T08:05:37.779Z"
   },
   {
    "duration": 32,
    "start_time": "2023-08-11T08:05:37.785Z"
   },
   {
    "duration": 2481,
    "start_time": "2023-08-11T08:05:37.819Z"
   },
   {
    "duration": 465,
    "start_time": "2023-08-11T08:05:40.302Z"
   },
   {
    "duration": 8,
    "start_time": "2023-08-11T08:05:40.769Z"
   },
   {
    "duration": 121,
    "start_time": "2023-08-11T08:05:40.788Z"
   },
   {
    "duration": 15,
    "start_time": "2023-08-11T08:05:40.911Z"
   },
   {
    "duration": 316,
    "start_time": "2023-08-11T08:05:40.927Z"
   },
   {
    "duration": 3257,
    "start_time": "2023-08-11T08:05:41.245Z"
   },
   {
    "duration": 7359,
    "start_time": "2023-08-11T08:06:15.650Z"
   },
   {
    "duration": 9,
    "start_time": "2023-08-11T08:06:23.011Z"
   },
   {
    "duration": 44,
    "start_time": "2023-08-11T08:06:23.022Z"
   },
   {
    "duration": 466,
    "start_time": "2023-08-11T08:06:23.069Z"
   },
   {
    "duration": 4,
    "start_time": "2023-08-11T08:06:23.536Z"
   },
   {
    "duration": 42,
    "start_time": "2023-08-11T08:06:23.541Z"
   },
   {
    "duration": 934,
    "start_time": "2023-08-11T08:06:23.585Z"
   },
   {
    "duration": 596,
    "start_time": "2023-08-11T08:06:24.521Z"
   },
   {
    "duration": 8,
    "start_time": "2023-08-11T08:06:25.119Z"
   },
   {
    "duration": 134,
    "start_time": "2023-08-11T08:06:25.130Z"
   },
   {
    "duration": 12,
    "start_time": "2023-08-11T08:06:25.265Z"
   },
   {
    "duration": 319,
    "start_time": "2023-08-11T08:06:25.279Z"
   },
   {
    "duration": 3276,
    "start_time": "2023-08-11T08:06:25.603Z"
   },
   {
    "duration": 52493,
    "start_time": "2023-08-11T08:06:28.881Z"
   },
   {
    "duration": 3,
    "start_time": "2023-08-11T08:07:21.376Z"
   },
   {
    "duration": 591,
    "start_time": "2023-08-11T08:07:21.381Z"
   },
   {
    "duration": 1011283,
    "start_time": "2023-08-11T08:07:21.974Z"
   },
   {
    "duration": 525,
    "start_time": "2023-08-11T08:24:13.259Z"
   },
   {
    "duration": 3,
    "start_time": "2023-08-11T08:24:13.789Z"
   },
   {
    "duration": 75,
    "start_time": "2023-08-11T08:24:13.794Z"
   },
   {
    "duration": 29,
    "start_time": "2023-08-11T08:24:13.871Z"
   },
   {
    "duration": 5,
    "start_time": "2023-08-11T08:24:13.902Z"
   },
   {
    "duration": 6,
    "start_time": "2023-08-11T08:24:13.909Z"
   },
   {
    "duration": 4,
    "start_time": "2023-08-11T08:24:13.917Z"
   },
   {
    "duration": 8,
    "start_time": "2023-08-11T08:24:13.922Z"
   },
   {
    "duration": 8,
    "start_time": "2023-08-11T08:24:13.932Z"
   },
   {
    "duration": 12,
    "start_time": "2023-08-11T08:24:13.942Z"
   },
   {
    "duration": 27,
    "start_time": "2023-08-11T08:24:13.960Z"
   },
   {
    "duration": 5,
    "start_time": "2023-08-11T08:24:13.990Z"
   },
   {
    "duration": 651107,
    "start_time": "2023-08-11T08:24:13.997Z"
   },
   {
    "duration": 3,
    "start_time": "2023-08-11T08:35:05.106Z"
   },
   {
    "duration": 25,
    "start_time": "2023-08-11T08:35:05.111Z"
   },
   {
    "duration": 534,
    "start_time": "2023-08-11T08:35:05.138Z"
   },
   {
    "duration": 2,
    "start_time": "2023-08-11T08:35:05.674Z"
   },
   {
    "duration": 13,
    "start_time": "2023-08-11T08:35:05.678Z"
   },
   {
    "duration": 21,
    "start_time": "2023-08-11T08:35:05.692Z"
   },
   {
    "duration": 3,
    "start_time": "2023-08-11T08:35:05.725Z"
   },
   {
    "duration": 30,
    "start_time": "2023-08-11T08:35:05.729Z"
   },
   {
    "duration": 15,
    "start_time": "2023-08-11T08:35:05.761Z"
   },
   {
    "duration": 48,
    "start_time": "2023-08-11T08:35:05.778Z"
   },
   {
    "duration": 15,
    "start_time": "2023-08-11T08:35:05.828Z"
   },
   {
    "duration": 18,
    "start_time": "2023-08-11T08:35:05.844Z"
   },
   {
    "duration": 12,
    "start_time": "2023-08-11T08:35:05.863Z"
   },
   {
    "duration": 44,
    "start_time": "2023-08-11T08:35:05.876Z"
   },
   {
    "duration": 6,
    "start_time": "2023-08-11T08:35:05.922Z"
   },
   {
    "duration": 26,
    "start_time": "2023-08-11T08:35:05.929Z"
   },
   {
    "duration": 13,
    "start_time": "2023-08-11T08:35:05.957Z"
   },
   {
    "duration": 9,
    "start_time": "2023-08-11T08:35:05.971Z"
   },
   {
    "duration": 15,
    "start_time": "2023-08-11T08:35:05.982Z"
   },
   {
    "duration": 10,
    "start_time": "2023-08-11T08:35:05.999Z"
   },
   {
    "duration": 16,
    "start_time": "2023-08-11T08:35:06.011Z"
   },
   {
    "duration": 35,
    "start_time": "2023-08-11T08:35:06.028Z"
   },
   {
    "duration": 9,
    "start_time": "2023-08-11T08:35:06.064Z"
   }
  ],
  "kernelspec": {
   "display_name": "Python 3 (ipykernel)",
   "language": "python",
   "name": "python3"
  },
  "language_info": {
   "codemirror_mode": {
    "name": "ipython",
    "version": 3
   },
   "file_extension": ".py",
   "mimetype": "text/x-python",
   "name": "python",
   "nbconvert_exporter": "python",
   "pygments_lexer": "ipython3",
   "version": "3.9.5"
  },
  "toc": {
   "base_numbering": 1,
   "nav_menu": {},
   "number_sections": true,
   "sideBar": true,
   "skip_h1_title": true,
   "title_cell": "Содержание",
   "title_sidebar": "Contents",
   "toc_cell": true,
   "toc_position": {
    "height": "calc(100% - 180px)",
    "left": "10px",
    "top": "150px",
    "width": "302.391px"
   },
   "toc_section_display": true,
   "toc_window_display": false
  }
 },
 "nbformat": 4,
 "nbformat_minor": 2
}
